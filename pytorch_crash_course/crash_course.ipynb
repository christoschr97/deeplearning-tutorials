{
 "cells": [
  {
   "cell_type": "markdown",
   "id": "af29ce98",
   "metadata": {},
   "source": [
    "# PyTorch Crash Course"
   ]
  },
  {
   "cell_type": "markdown",
   "id": "f3d5a7b5",
   "metadata": {},
   "source": [
    "## 5 Chapters\n",
    "1. Introduction to Tensors  \n",
    "  - Tensor Operations: Create, Numpy, GPU Support\n",
    "2. Autograd: Automatic Differentiation of PyTorch  \n",
    "  - Linear Regression Example\n",
    "3. Training Loop with: Model, Loss, Optimizer  \n",
    "  - A Typical PyTorch Workflow / training pipeline\n",
    "4. Neural Network  \n",
    "  - Also: GPU/Mps, DataLoader, Transforms & Evaluation\n",
    "5. Convolutional Neural Network (CNN)  \n",
    "  - Also: Save & Load Model"
   ]
  },
  {
   "cell_type": "markdown",
   "id": "ea253595",
   "metadata": {},
   "source": [
    "# 1. Introduction to Tensors\n",
    "\n",
    "Everything in Pytorch is a tensor. Tensor is the basic datastructure in PyTorch that extends numpy. \n",
    "\n",
    "In theory, tensor is a multi-dimensional matrix containing elements of the same data type."
   ]
  },
  {
   "cell_type": "code",
   "execution_count": 16,
   "id": "c668033a",
   "metadata": {},
   "outputs": [
    {
     "name": "stdout",
     "output_type": "stream",
     "text": [
      "empty(5): tensor([0., 0., 0., 0., 0.]) with shape torch.Size([5])\n",
      "empty(2,3): tensor([[0., 0., 0.],\n",
      "        [0., 0., 0.]]) with shape: torch.Size([2, 3])\n",
      "ones(1): tensor([1.]) with shape: torch.Size([1])\n",
      "ones(1,2): tensor([[1., 1.]]) with shape: torch.Size([1, 2])\n",
      "zeros(2): tensor([0., 0.]) with shape: torch.Size([2])\n",
      "zeros(2, 2): tensor([[0., 0.],\n",
      "        [0., 0.]]) with shape: torch.Size([2, 2])\n",
      "rand(5): tensor([0.6733, 0.4980, 0.4894, 0.5151, 0.1446]) with shape: torch.Size([5])\n",
      "rand(5,5): tensor([[0.8415, 0.5387, 0.5452, 0.6928, 0.3202],\n",
      "        [0.7853, 0.2013, 0.9171, 0.4358, 0.1147],\n",
      "        [0.9142, 0.1029, 0.1442, 0.8652, 0.0256],\n",
      "        [0.5981, 0.9496, 0.9197, 0.6694, 0.3403],\n",
      "        [0.4247, 0.6171, 0.0515, 0.8784, 0.1009]]) with shape: torch.Size([5, 5])\n"
     ]
    }
   ],
   "source": [
    "import torch\n",
    "\n",
    "x = torch.empty(5)\n",
    "print(f'empty(5): {x} with shape {x.shape}')\n",
    "x = torch.empty(2,3)\n",
    "print(f'empty(2,3): {x} with shape: {x.shape}')\n",
    "x = torch.ones(1)\n",
    "print(f'ones(1): {x} with shape: {x.shape}')\n",
    "x = torch.ones(1,2)\n",
    "print(f'ones(1,2): {x} with shape: {x.shape}')\n",
    "x = torch.zeros(2)\n",
    "print(f'zeros(2): {x} with shape: {x.shape}')\n",
    "x = torch.zeros(2,2)\n",
    "print(f'zeros(2, 2): {x} with shape: {x.shape}')\n",
    "x = torch.rand(5)\n",
    "print(f'rand(5): {x} with shape: {x.shape}')\n",
    "x = torch.rand(5,5)\n",
    "print(f'rand(5,5): {x} with shape: {x.shape}')"
   ]
  },
  {
   "cell_type": "markdown",
   "id": "87a3d5c6",
   "metadata": {},
   "source": [
    "We can check the size of the tensor using `.size()` or the shape of a tensor using `.shape()`"
   ]
  },
  {
   "cell_type": "code",
   "execution_count": 17,
   "id": "df8d6daa",
   "metadata": {},
   "outputs": [
    {
     "name": "stdout",
     "output_type": "stream",
     "text": [
      "Size: torch.Size([5, 5])\n",
      "Shape: torch.Size([5, 5])\n"
     ]
    }
   ],
   "source": [
    "print(f'Size: {x.size()}') # specific dimension .size(0)\n",
    "print(f'Shape: {x.shape}') # specific dimension .shape[0]"
   ]
  },
  {
   "cell_type": "code",
   "execution_count": 18,
   "id": "2f8474ff",
   "metadata": {},
   "outputs": [
    {
     "name": "stdout",
     "output_type": "stream",
     "text": [
      "The tensor tensor([[0.8415, 0.5387, 0.5452, 0.6928, 0.3202],\n",
      "        [0.7853, 0.2013, 0.9171, 0.4358, 0.1147],\n",
      "        [0.9142, 0.1029, 0.1442, 0.8652, 0.0256],\n",
      "        [0.5981, 0.9496, 0.9197, 0.6694, 0.3403],\n",
      "        [0.4247, 0.6171, 0.0515, 0.8784, 0.1009]]) has dtype: torch.float32\n",
      "The tensor tensor([[0.4570, 0.9282, 0.7173, 0.4727, 0.1353],\n",
      "        [0.1509, 0.6665, 0.3784, 0.6333, 0.7949],\n",
      "        [0.0498, 0.8657, 0.3813, 0.8369, 0.3643],\n",
      "        [0.0381, 0.1670, 0.9619, 0.4648, 0.5718],\n",
      "        [0.0898, 0.2207, 0.0068, 0.7817, 0.5752]], dtype=torch.float16) has dtype: torch.float16\n"
     ]
    }
   ],
   "source": [
    "# check the data type of a tensor using:\n",
    "print(f'The tensor {x} has dtype: {x.dtype}')\n",
    "\n",
    "# To define a tensor with different dtype we should define it upon creation\n",
    "x = torch.rand(5,5, dtype=torch.float16)\n",
    "print(f'The tensor {x} has dtype: {x.dtype}')\n"
   ]
  },
  {
   "cell_type": "markdown",
   "id": "6018ab3c",
   "metadata": {},
   "source": [
    "We can also construct a tensor from a Python List or a numpy array"
   ]
  },
  {
   "cell_type": "code",
   "execution_count": 20,
   "id": "da4d86f3",
   "metadata": {},
   "outputs": [
    {
     "data": {
      "text/plain": [
       "tensor([1, 2, 3])"
      ]
     },
     "execution_count": 20,
     "metadata": {},
     "output_type": "execute_result"
    }
   ],
   "source": [
    "import numpy as np\n",
    "\n",
    "np_array = np.array([1,2,3])\n",
    "x = torch.tensor(np_array)\n",
    "x"
   ]
  },
  {
   "cell_type": "code",
   "execution_count": 21,
   "id": "7b2c1783",
   "metadata": {},
   "outputs": [
    {
     "data": {
      "text/plain": [
       "tensor([1, 2, 3])"
      ]
     },
     "execution_count": 21,
     "metadata": {},
     "output_type": "execute_result"
    }
   ],
   "source": [
    "py_list = [1,2,3]\n",
    "x = torch.tensor(py_list)\n",
    "x"
   ]
  },
  {
   "cell_type": "markdown",
   "id": "ae1e09b6",
   "metadata": {},
   "source": [
    "Another one important thing to know is that a tensor has an argument `requires_grad` which is by default set to `False`. If we set this to true, then python will track `gradients` for that numpy array. \n",
    "\n",
    "In a simple way, it will tell pytorch that it will need to calculate gradients for this tensor. We need this later in the optimization step, and we use it for all variables in our model that we want to optimize."
   ]
  },
  {
   "cell_type": "code",
   "execution_count": 22,
   "id": "0760287c",
   "metadata": {},
   "outputs": [
    {
     "name": "stdout",
     "output_type": "stream",
     "text": [
      "tensor([5.5000, 3.0000], requires_grad=True)\n"
     ]
    }
   ],
   "source": [
    "x = torch.tensor([5.5, 3], requires_grad=True)\n",
    "print(x)"
   ]
  },
  {
   "cell_type": "markdown",
   "id": "0fab5502",
   "metadata": {},
   "source": [
    "## 1.2 Operations on tensors\n",
    "\n",
    "This is simliar to numpy arrays. All the operations unless specified are element-wise."
   ]
  },
  {
   "cell_type": "code",
   "execution_count": 57,
   "id": "5902b3f9",
   "metadata": {},
   "outputs": [
    {
     "data": {
      "text/plain": [
       "(tensor([[1., 1.],\n",
       "         [1., 1.]]),\n",
       " tensor([[0.9356, 0.8502],\n",
       "         [0.8692, 0.1311]]))"
      ]
     },
     "execution_count": 57,
     "metadata": {},
     "output_type": "execute_result"
    }
   ],
   "source": [
    "x = torch.ones(2,2)\n",
    "y = torch.rand(2,2)\n",
    "x, y"
   ]
  },
  {
   "cell_type": "code",
   "execution_count": 58,
   "id": "ca50c5ed",
   "metadata": {},
   "outputs": [
    {
     "data": {
      "text/plain": [
       "tensor([[1.9356, 1.8502],\n",
       "        [1.8692, 1.1311]])"
      ]
     },
     "execution_count": 58,
     "metadata": {},
     "output_type": "execute_result"
    }
   ],
   "source": [
    "# Elementwise addition\n",
    "z = x + y\n",
    "z"
   ]
  },
  {
   "cell_type": "code",
   "execution_count": 59,
   "id": "457202af",
   "metadata": {},
   "outputs": [
    {
     "name": "stdout",
     "output_type": "stream",
     "text": [
      "subtraction: tensor([[0.0644, 0.1498],\n",
      "        [0.1308, 0.8689]])\n",
      "subtraction: tensor([[0.9356, 0.8502],\n",
      "        [0.8692, 0.1311]])\n",
      "subtraction: tensor([[1.0688, 1.1762],\n",
      "        [1.1505, 7.6269]])\n"
     ]
    }
   ],
   "source": [
    "# Elementwise subtraction, multiplication and division\n",
    "z = x - y\n",
    "print(f'subtraction: {z}')\n",
    "z = x * y\n",
    "print(f'subtraction: {z}')\n",
    "z = x / y\n",
    "print(f'subtraction: {z}')"
   ]
  },
  {
   "cell_type": "markdown",
   "id": "7d480327",
   "metadata": {},
   "source": [
    "# "
   ]
  },
  {
   "cell_type": "markdown",
   "id": "991e37ec",
   "metadata": {},
   "source": [
    "Indexing and slicing on torch tensors:"
   ]
  },
  {
   "cell_type": "code",
   "execution_count": 60,
   "id": "decbc6c8",
   "metadata": {},
   "outputs": [
    {
     "data": {
      "text/plain": [
       "tensor([[[0.3224, 0.0053],\n",
       "         [0.7883, 0.4331],\n",
       "         [0.2507, 0.8969]],\n",
       "\n",
       "        [[0.2828, 0.5628],\n",
       "         [0.0871, 0.4265],\n",
       "         [0.2292, 0.5341]],\n",
       "\n",
       "        [[0.4714, 0.1922],\n",
       "         [0.1939, 0.3335],\n",
       "         [0.3064, 0.5884]],\n",
       "\n",
       "        [[0.9674, 0.1169],\n",
       "         [0.5641, 0.1002],\n",
       "         [0.3880, 0.6121]],\n",
       "\n",
       "        [[0.6654, 0.0183],\n",
       "         [0.9934, 0.4897],\n",
       "         [0.2130, 0.9235]]])"
      ]
     },
     "execution_count": 60,
     "metadata": {},
     "output_type": "execute_result"
    }
   ],
   "source": [
    "x = torch.rand(5,3,2)\n",
    "x"
   ]
  },
  {
   "cell_type": "code",
   "execution_count": 61,
   "id": "f2ca86a6",
   "metadata": {},
   "outputs": [
    {
     "data": {
      "text/plain": [
       "tensor([[0.7883, 0.4331],\n",
       "        [0.0871, 0.4265],\n",
       "        [0.1939, 0.3335],\n",
       "        [0.5641, 0.1002],\n",
       "        [0.9934, 0.4897]])"
      ]
     },
     "execution_count": 61,
     "metadata": {},
     "output_type": "execute_result"
    }
   ],
   "source": [
    "x[:,1,:]"
   ]
  },
  {
   "cell_type": "markdown",
   "id": "071d941e",
   "metadata": {},
   "source": [
    "`.item()` converts a single number tensor into scalar. If it has more than 1 element it will break."
   ]
  },
  {
   "cell_type": "code",
   "execution_count": 62,
   "id": "7c7fd885",
   "metadata": {},
   "outputs": [
    {
     "name": "stdout",
     "output_type": "stream",
     "text": [
      "dtype: 0.4265291690826416 of tensor tensor([[[0.3224, 0.0053],\n",
      "         [0.7883, 0.4331],\n",
      "         [0.2507, 0.8969]],\n",
      "\n",
      "        [[0.2828, 0.5628],\n",
      "         [0.0871, 0.4265],\n",
      "         [0.2292, 0.5341]],\n",
      "\n",
      "        [[0.4714, 0.1922],\n",
      "         [0.1939, 0.3335],\n",
      "         [0.3064, 0.5884]],\n",
      "\n",
      "        [[0.9674, 0.1169],\n",
      "         [0.5641, 0.1002],\n",
      "         [0.3880, 0.6121]],\n",
      "\n",
      "        [[0.6654, 0.0183],\n",
      "         [0.9934, 0.4897],\n",
      "         [0.2130, 0.9235]]])\n"
     ]
    },
    {
     "data": {
      "text/plain": [
       "(0.4265291690826416, float)"
      ]
     },
     "execution_count": 62,
     "metadata": {},
     "output_type": "execute_result"
    }
   ],
   "source": [
    "#wihtout item it is a tensor:\n",
    "print(f'dtype: {x[1,1,1]} of tensor {x}')\n",
    "x[1,1,1].item(), type(x[1,1,1].item())"
   ]
  },
  {
   "cell_type": "code",
   "execution_count": 63,
   "id": "d24aec92",
   "metadata": {},
   "outputs": [
    {
     "ename": "RuntimeError",
     "evalue": "a Tensor with 2 elements cannot be converted to Scalar",
     "output_type": "error",
     "traceback": [
      "\u001b[31m---------------------------------------------------------------------------\u001b[39m",
      "\u001b[31mRuntimeError\u001b[39m                              Traceback (most recent call last)",
      "\u001b[36mCell\u001b[39m\u001b[36m \u001b[39m\u001b[32mIn[63]\u001b[39m\u001b[32m, line 1\u001b[39m\n\u001b[32m----> \u001b[39m\u001b[32m1\u001b[39m \u001b[43mx\u001b[49m\u001b[43m[\u001b[49m\u001b[32;43m1\u001b[39;49m\u001b[43m,\u001b[49m\u001b[32;43m1\u001b[39;49m\u001b[43m]\u001b[49m\u001b[43m.\u001b[49m\u001b[43mitem\u001b[49m\u001b[43m(\u001b[49m\u001b[43m)\u001b[49m\n",
      "\u001b[31mRuntimeError\u001b[39m: a Tensor with 2 elements cannot be converted to Scalar"
     ]
    }
   ],
   "source": [
    "x[1,1].item()"
   ]
  },
  {
   "cell_type": "markdown",
   "id": "15f54333",
   "metadata": {},
   "source": [
    "Reshaping a tensor:\n",
    "- Can be done either with `view()` either with `.reshape()`\n",
    "\n",
    "The main differences between torch.view() and torch.reshape() are: Memory and Storage\n",
    "\n",
    "`view()`:\n",
    "- Creates a view of the original tensor (shares the same memory)\n",
    "- Does not copy data - just changes how the tensor is interpreted\n",
    "- Requires the tensor to be contiguous in memory\n",
    "- Will fail if the tensor is not contiguous\n",
    "\n",
    "`reshape()`:\n",
    "- Can return either a view OR a copy depending on the tensor's memory layout\n",
    "- Works with both contiguous and non-contiguous tensors\n",
    "- May create a copy if the tensor is not contiguous"
   ]
  },
  {
   "cell_type": "code",
   "execution_count": 64,
   "id": "a4bf0393",
   "metadata": {},
   "outputs": [
    {
     "data": {
      "text/plain": [
       "(tensor([0.7304, 0.0771, 0.7171, 0.3782, 0.4496, 0.0919, 0.6032, 0.2691, 0.3198,\n",
       "         0.6993, 0.6584, 0.2737, 0.7963, 0.5940, 0.6395, 0.0698]),\n",
       " torch.Size([16]))"
      ]
     },
     "execution_count": 64,
     "metadata": {},
     "output_type": "execute_result"
    }
   ],
   "source": [
    "x = torch.rand(4,4)\n",
    "y = x.view(16)\n",
    "y, x.view(16).shape"
   ]
  },
  {
   "cell_type": "code",
   "execution_count": 65,
   "id": "508482f6",
   "metadata": {},
   "outputs": [
    {
     "data": {
      "text/plain": [
       "tensor([[0.7304, 0.0771, 0.7171, 0.3782, 0.4496, 0.0919, 0.6032, 0.2691],\n",
       "        [0.3198, 0.6993, 0.6584, 0.2737, 0.7963, 0.5940, 0.6395, 0.0698]])"
      ]
     },
     "execution_count": 65,
     "metadata": {},
     "output_type": "execute_result"
    }
   ],
   "source": [
    "z = x.view(-1, 8) # will fill the dimensions required to match the shape of the original tensor\n",
    "z"
   ]
  },
  {
   "cell_type": "code",
   "execution_count": 66,
   "id": "0965337b",
   "metadata": {},
   "outputs": [
    {
     "name": "stdout",
     "output_type": "stream",
     "text": [
      "x storage address: 5409951936\n",
      "z storage address: 5409951936\n"
     ]
    }
   ],
   "source": [
    "print(f\"x storage address: {x.storage().data_ptr()}\")\n",
    "print(f\"z storage address: {z.storage().data_ptr()}\")"
   ]
  },
  {
   "cell_type": "markdown",
   "id": "81f03c57",
   "metadata": {},
   "source": [
    "Convert a tensor to a numpy array or vice versa.\n",
    "\n",
    "If tensors are on the CPU, converting them to numpy will share the same memory location (so one change affect the both the tensor and the numpy array)."
   ]
  },
  {
   "cell_type": "code",
   "execution_count": 70,
   "id": "5478269c",
   "metadata": {},
   "outputs": [],
   "source": [
    "x = torch.rand(5,2)\n",
    "np_x = x.numpy()"
   ]
  },
  {
   "cell_type": "code",
   "execution_count": 71,
   "id": "733b7597",
   "metadata": {},
   "outputs": [
    {
     "name": "stdout",
     "output_type": "stream",
     "text": [
      "tensor([[1.4628, 1.5563],\n",
      "        [1.7423, 1.0034],\n",
      "        [1.6913, 1.0113],\n",
      "        [1.0346, 1.1374],\n",
      "        [1.0591, 1.0742]])\n",
      "[[1.462799  1.5562607]\n",
      " [1.7423112 1.003419 ]\n",
      " [1.691334  1.0113358]\n",
      " [1.0345505 1.137443 ]\n",
      " [1.0590763 1.0742233]]\n"
     ]
    }
   ],
   "source": [
    "x.add_(1)\n",
    "print(x)\n",
    "print(np_x)"
   ]
  },
  {
   "cell_type": "code",
   "execution_count": 72,
   "id": "8443ee6a",
   "metadata": {},
   "outputs": [
    {
     "data": {
      "text/plain": [
       "tensor([[True, True],\n",
       "        [True, True],\n",
       "        [True, True],\n",
       "        [True, True],\n",
       "        [True, True]])"
      ]
     },
     "execution_count": 72,
     "metadata": {},
     "output_type": "execute_result"
    }
   ],
   "source": [
    "x == np_x"
   ]
  },
  {
   "cell_type": "markdown",
   "id": "72ca1f23",
   "metadata": {},
   "source": [
    "On the other hand, if we create a torch from numpy will still share the same memory address, unless we specify explicitly a new tensor from that numpy array with the traditional way."
   ]
  },
  {
   "cell_type": "code",
   "execution_count": 74,
   "id": "ee2582c4",
   "metadata": {},
   "outputs": [],
   "source": [
    "# Method 1: torch.from_numpy() - SHARES memory\n",
    "tensor1 = torch.from_numpy(np_array)\n",
    "\n",
    "# Method 2: torch.tensor() - COPIES data (creates new memory)\n",
    "tensor2 = torch.tensor(np_array)"
   ]
  },
  {
   "cell_type": "code",
   "execution_count": 75,
   "id": "f3092496",
   "metadata": {},
   "outputs": [
    {
     "name": "stdout",
     "output_type": "stream",
     "text": [
      "Original numpy: [1 2 3]\n",
      "tensor1 (from_numpy): tensor([1, 2, 3])\n",
      "tensor2 (tensor): tensor([1, 2, 3])\n",
      "\n",
      "After modifying numpy array:\n",
      "Original numpy: [999   2   3]\n",
      "tensor1 (from_numpy): tensor([999,   2,   3])\n",
      "tensor2 (tensor): tensor([1, 2, 3])\n"
     ]
    }
   ],
   "source": [
    "# Test memory sharing\n",
    "print(\"Original numpy:\", np_array)\n",
    "print(\"tensor1 (from_numpy):\", tensor1)\n",
    "print(\"tensor2 (tensor):\", tensor2)\n",
    "\n",
    "# Modify the original numpy array\n",
    "np_array[0] = 999\n",
    "\n",
    "print(\"\\nAfter modifying numpy array:\")\n",
    "print(\"Original numpy:\", np_array)\n",
    "print(\"tensor1 (from_numpy):\", tensor1)  # Will change!\n",
    "print(\"tensor2 (tensor):\", tensor2)      # Won't change!"
   ]
  },
  {
   "cell_type": "markdown",
   "id": "a0c8dc68",
   "metadata": {},
   "source": [
    "## 1.3 GPU Support"
   ]
  },
  {
   "cell_type": "code",
   "execution_count": 199,
   "id": "c8123d5b",
   "metadata": {},
   "outputs": [
    {
     "data": {
      "text/plain": [
       "device(type='mps')"
      ]
     },
     "execution_count": 199,
     "metadata": {},
     "output_type": "execute_result"
    }
   ],
   "source": [
    "# %%writefile ../utils/device.py\n",
    "def get_device():\n",
    "    if torch.cuda.is_available():\n",
    "        return torch.device('cuda')\n",
    "    elif torch.backends.mps.is_available():\n",
    "        return torch.device('mps')\n",
    "    else:\n",
    "        return torch.device('cpu')\n",
    "\n",
    "device = get_device()\n",
    "device"
   ]
  },
  {
   "cell_type": "code",
   "execution_count": 83,
   "id": "30e21a73",
   "metadata": {},
   "outputs": [
    {
     "name": "stdout",
     "output_type": "stream",
     "text": [
      "mps:0\n"
     ]
    }
   ],
   "source": [
    "x = torch.tensor([1, 2, 3])\n",
    "x = x.to('mps')  \n",
    "print(x.device)"
   ]
  },
  {
   "cell_type": "markdown",
   "id": "a822bc27",
   "metadata": {},
   "source": [
    "If you know you will need a tensor to specific device, you can specify it upon initialization"
   ]
  },
  {
   "cell_type": "code",
   "execution_count": 84,
   "id": "761e1f01",
   "metadata": {},
   "outputs": [
    {
     "data": {
      "text/plain": [
       "device(type='mps', index=0)"
      ]
     },
     "execution_count": 84,
     "metadata": {},
     "output_type": "execute_result"
    }
   ],
   "source": [
    "x = torch.tensor([1,2,3], device=device)\n",
    "x.device"
   ]
  },
  {
   "cell_type": "markdown",
   "id": "00f5a92d",
   "metadata": {},
   "source": [
    "# Autograd\n",
    "\n",
    "Automatic Differentiation Engine (Autograd) of PyTorch is the system that automatically computes derivatives using chain rule.\n",
    "\n",
    "In order to track any operations we do on any tensor, which we will need later in order to calculate the gradients (derivatives on hyperdimensional space). So to achieve this we need to set the attribute `requires_grad=True`.\n",
    "\n",
    "Setting `requires_grad=True` on a tensor tells PyTorch to track operations on it and build the computation graph so you can compute gradients via .backward()."
   ]
  },
  {
   "cell_type": "code",
   "execution_count": 95,
   "id": "7aac9e7f",
   "metadata": {},
   "outputs": [
    {
     "data": {
      "text/plain": [
       "tensor([1.7203, 0.2642, 2.0011], requires_grad=True)"
      ]
     },
     "execution_count": 95,
     "metadata": {},
     "output_type": "execute_result"
    }
   ],
   "source": [
    "import torch\n",
    "\n",
    "x = torch.randn(3, requires_grad=True)\n",
    "x"
   ]
  },
  {
   "cell_type": "markdown",
   "id": "c9829b3c",
   "metadata": {},
   "source": [
    "If we print y bellow after we do an operation to it, it will have the attribute grad_fn.\n",
    "\n",
    "This function is what will be used afterwards when we calculate gradients. So we do calculations in a forward direction and then go in a backward direction and calculate the gradients.\n",
    "\n",
    "You can also see that the backward function is different if we add or multiply or any other operation."
   ]
  },
  {
   "cell_type": "code",
   "execution_count": 96,
   "id": "70606b3c",
   "metadata": {},
   "outputs": [
    {
     "data": {
      "text/plain": [
       "tensor([3.7203, 2.2642, 4.0011], grad_fn=<AddBackward0>)"
      ]
     },
     "execution_count": 96,
     "metadata": {},
     "output_type": "execute_result"
    }
   ],
   "source": [
    "y = x + 2\n",
    "y"
   ]
  },
  {
   "cell_type": "code",
   "execution_count": null,
   "id": "507acabd",
   "metadata": {},
   "outputs": [
    {
     "data": {
      "text/plain": [
       "tensor(11.6586, grad_fn=<MeanBackward0>)"
      ]
     },
     "execution_count": 101,
     "metadata": {},
     "output_type": "execute_result"
    }
   ],
   "source": [
    "z = y * y\n",
    "# z = z.mean()\n",
    "z"
   ]
  },
  {
   "cell_type": "code",
   "execution_count": null,
   "id": "a54bea8d",
   "metadata": {},
   "outputs": [
    {
     "name": "stdout",
     "output_type": "stream",
     "text": [
      "Before we call backwards: None\n",
      "After we triggered backwards on the end result: tensor([2.4802, 1.5094, 2.6674])\n"
     ]
    }
   ],
   "source": [
    "print(f'Before we call backwards: {x.grad}')\n",
    "z.backward() # dz/dx\n",
    "print(f'After we triggered backwards on the end result: {x.grad}')"
   ]
  },
  {
   "cell_type": "markdown",
   "id": "686e9b82",
   "metadata": {},
   "source": [
    "`Note`\n",
    "\n",
    "Calling `.backward()` accumulates on existing gradients, so when we do a training loop we need to zero the gradients before we trigger backward again."
   ]
  },
  {
   "cell_type": "markdown",
   "id": "57c33635",
   "metadata": {},
   "source": [
    "How to stop tensors to track gradients?\n",
    "\n",
    "e.g\n",
    "- When we eval a model\n",
    "- When we update our weights"
   ]
  },
  {
   "cell_type": "code",
   "execution_count": 107,
   "id": "dd19eae3",
   "metadata": {},
   "outputs": [
    {
     "data": {
      "text/plain": [
       "False"
      ]
     },
     "execution_count": 107,
     "metadata": {},
     "output_type": "execute_result"
    }
   ],
   "source": [
    "# requires_grad=False\n",
    "x.requires_grad_(False)\n",
    "\n",
    "# x.detach(): creates a new tensor with requires_grad = False\n",
    "a = torch.rand(2,3, requires_grad=True)\n",
    "b = a.detach()\n",
    "b.requires_grad\n"
   ]
  },
  {
   "cell_type": "code",
   "execution_count": 111,
   "id": "04c740c5",
   "metadata": {},
   "outputs": [
    {
     "name": "stdout",
     "output_type": "stream",
     "text": [
      "True\n",
      "False\n"
     ]
    }
   ],
   "source": [
    "b = torch.randn(2,3, requires_grad=True)\n",
    "\n",
    "print(b.requires_grad)\n",
    "# wrap with torch.no_grad():\n",
    "with torch.no_grad():\n",
    "  b = b ** 5\n",
    "  print(b.requires_grad)"
   ]
  },
  {
   "cell_type": "markdown",
   "id": "ca0706db",
   "metadata": {},
   "source": [
    "# Linear Regression with Autograd"
   ]
  },
  {
   "cell_type": "code",
   "execution_count": 136,
   "id": "dc351fbd",
   "metadata": {},
   "outputs": [],
   "source": [
    "import pdb"
   ]
  },
  {
   "cell_type": "code",
   "execution_count": 144,
   "id": "9cb8d192",
   "metadata": {},
   "outputs": [],
   "source": [
    "import torch\n",
    "\n",
    "X = torch.tensor([1,2,3,4,5,6,7,8])\n",
    "Y = torch.tensor([2,4,6,8,10,12,14,16])\n",
    "\n",
    "w = torch.tensor(0.0, dtype=torch.float32, requires_grad=True)\n",
    "\n",
    "def forward(x):\n",
    "  return w*x\n",
    "  \n",
    "def loss_fn(y, predictions):\n",
    "  return ((predictions - y)**2).mean()"
   ]
  },
  {
   "cell_type": "code",
   "execution_count": 145,
   "id": "21684f58",
   "metadata": {},
   "outputs": [
    {
     "name": "stdout",
     "output_type": "stream",
     "text": [
      "Epoch 1 w(after)=1.020000\n",
      "\n",
      "Train Loss: 102.0\n",
      "Y Predictions: tensor([11.2200, 22.4400, 33.6600, 44.8800, 51.0000, 61.2000])\n",
      "Y Real: tensor([ 22,  44,  66,  88, 100, 120])\n",
      "Epoch 2 w(after)=1.519800\n",
      "\n",
      "Train Loss: 24.49020004272461\n",
      "Y Predictions: tensor([16.7178, 33.4356, 50.1534, 66.8712, 75.9900, 91.1880])\n",
      "Y Real: tensor([ 22,  44,  66,  88, 100, 120])\n",
      "Epoch 3 w(after)=1.764702\n",
      "\n",
      "Train Loss: 5.880098819732666\n",
      "Y Predictions: tensor([ 19.4117,  38.8234,  58.2352,  77.6469,  88.2351, 105.8821])\n",
      "Y Real: tensor([ 22,  44,  66,  88, 100, 120])\n",
      "Epoch 4 w(after)=1.884704\n",
      "\n",
      "Train Loss: 1.4118114709854126\n",
      "Y Predictions: tensor([ 20.7317,  41.4635,  62.1952,  82.9270,  94.2352, 113.0822])\n",
      "Y Real: tensor([ 22,  44,  66,  88, 100, 120])\n",
      "Epoch 5 w(after)=1.943505\n",
      "\n",
      "Train Loss: 0.33897578716278076\n",
      "Y Predictions: tensor([ 21.3786,  42.7571,  64.1357,  85.5142,  97.1752, 116.6103])\n",
      "Y Real: tensor([ 22,  44,  66,  88, 100, 120])\n",
      "Epoch 6 w(after)=1.972317\n",
      "\n",
      "Train Loss: 0.0813881903886795\n",
      "Y Predictions: tensor([ 21.6955,  43.3910,  65.0865,  86.7820,  98.6159, 118.3391])\n",
      "Y Real: tensor([ 22,  44,  66,  88, 100, 120])\n",
      "Epoch 7 w(after)=1.986436\n",
      "\n",
      "Train Loss: 0.019541269168257713\n",
      "Y Predictions: tensor([ 21.8508,  43.7016,  65.5524,  87.4032,  99.3218, 119.1861])\n",
      "Y Real: tensor([ 22,  44,  66,  88, 100, 120])\n",
      "Epoch 8 w(after)=1.993353\n",
      "\n",
      "Train Loss: 0.004691871348768473\n",
      "Y Predictions: tensor([ 21.9269,  43.8538,  65.7807,  87.7076,  99.6677, 119.6012])\n",
      "Y Real: tensor([ 22,  44,  66,  88, 100, 120])\n",
      "Epoch 9 w(after)=1.996743\n",
      "\n",
      "Train Loss: 0.0011265305802226067\n",
      "Y Predictions: tensor([ 21.9642,  43.9284,  65.8925,  87.8567,  99.8372, 119.8046])\n",
      "Y Real: tensor([ 22,  44,  66,  88, 100, 120])\n",
      "Epoch 10 w(after)=1.998404\n",
      "\n",
      "Train Loss: 0.0002704716462176293\n",
      "Y Predictions: tensor([ 21.9824,  43.9649,  65.9473,  87.9298,  99.9202, 119.9043])\n",
      "Y Real: tensor([ 22,  44,  66,  88, 100, 120])\n"
     ]
    }
   ],
   "source": [
    "lr = 0.01\n",
    "epochs = 10\n",
    "\n",
    "X_test = torch.tensor([11,22,33,44,50,60])\n",
    "y_test = torch.tensor([22,44,66,88,100,120])\n",
    "\n",
    "for epoch in range(epochs):\n",
    "  preds = forward(X)\n",
    "  loss = loss_fn(Y, preds)\n",
    "  loss.backward()\n",
    "  grad = w.grad\n",
    "  with torch.no_grad(): #when we update weights we dont track gradients\n",
    "    w -= lr * w.grad\n",
    "  w.grad.zero_()\n",
    "  print(f\"Epoch {epoch+1} w(after)={w.item():.6f}\\n\")\n",
    "  print(f'Train Loss: {loss}')\n",
    "\n",
    "  with torch.inference_mode():\n",
    "    y_preds = forward(X_test)\n",
    "    test_loss = loss_fn(y_test, y_preds)\n",
    "    print(f'Y Predictions: {y_preds}')\n",
    "    print(f'Y Real: {y_test}')"
   ]
  },
  {
   "cell_type": "markdown",
   "id": "1d034341",
   "metadata": {},
   "source": [
    "# Model, Loss, Optimizer\n",
    "\n",
    "A typical PyTorch pipeline is:\n",
    "\n",
    "1. Design/Replicate/Download a model\n",
    "2. Construct a Loss (how far we are from our predictions) and an optimizer (The algorithm we will use for backpropagation)\n",
    "3. Training Loop:\n",
    "  - Forward = compute predictions and loss\n",
    "  - Backward = compute gradients\n",
    "  - Update weights"
   ]
  },
  {
   "cell_type": "code",
   "execution_count": 175,
   "id": "8dff6763",
   "metadata": {},
   "outputs": [
    {
     "data": {
      "text/plain": [
       "LinearReg(\n",
       "  (linear): Linear(in_features=1, out_features=1, bias=True)\n",
       ")"
      ]
     },
     "execution_count": 175,
     "metadata": {},
     "output_type": "execute_result"
    }
   ],
   "source": [
    "import torch\n",
    "import torch.nn as nn\n",
    "\n",
    "class LinearReg(nn.Module):\n",
    "  def __init__(self, input_shape, output_shape):\n",
    "    super(LinearReg, self).__init__()\n",
    "    self.linear = nn.Linear(in_features=input_shape, out_features=output_shape)\n",
    "\n",
    "  def forward(self, X):\n",
    "    return self.linear(X)\n",
    "\n",
    "X = torch.tensor([[1], [2], [3], [4], [5], [6], [7], [8]], dtype=torch.float32).to('mps')\n",
    "Y = torch.tensor([[2], [4], [6], [8], [10], [12], [14], [16]], dtype=torch.float32).to('mps')\n",
    "\n",
    "n_examples, input_shape = X.shape\n",
    "out_shape = input_shape\n",
    "\n",
    "model = LinearReg(input_shape, out_shape).to('mps')\n",
    "model"
   ]
  },
  {
   "cell_type": "code",
   "execution_count": 176,
   "id": "1ebc69b1",
   "metadata": {},
   "outputs": [],
   "source": [
    "loss_fn = nn.MSELoss()\n",
    "optimizer = torch.optim.Adam(params=model.parameters(), lr=0.01)"
   ]
  },
  {
   "cell_type": "code",
   "execution_count": 192,
   "id": "fc76c5f0",
   "metadata": {},
   "outputs": [
    {
     "name": "stdout",
     "output_type": "stream",
     "text": [
      "Loss: 0.002218024805188179\n",
      "W: 1.9810354709625244, b: 0.10321517288684845\n",
      "Loss: 0.0021165977232158184\n",
      "W: 1.9814743995666504, b: 0.10082679986953735\n",
      "Loss: 0.0020193203818053007\n",
      "W: 1.9819055795669556, b: 0.09848123043775558\n",
      "Loss: 0.0019260181579738855\n",
      "W: 1.9823287725448608, b: 0.09617793560028076\n",
      "Loss: 0.0018365615978837013\n",
      "W: 1.9827442169189453, b: 0.09391652047634125\n",
      "Loss: 0.0017507947050035\n",
      "W: 1.9831520318984985, b: 0.09169651567935944\n",
      "Loss: 0.0016686362214386463\n",
      "W: 1.98355233669281, b: 0.08951748162508011\n",
      "Loss: 0.0015898949932307005\n",
      "W: 1.9839452505111694, b: 0.08737894147634506\n",
      "Loss: 0.0015144911594688892\n",
      "W: 1.9843308925628662, b: 0.0852804034948349\n",
      "Loss: 0.0014422761742025614\n",
      "W: 1.9847091436386108, b: 0.08322139084339142\n",
      "Loss: 0.001373145030811429\n",
      "W: 1.9850802421569824, b: 0.08120144158601761\n",
      "Loss: 0.0013069873675704002\n",
      "W: 1.98544442653656, b: 0.07922004908323288\n",
      "Loss: 0.0012436870019882917\n",
      "W: 1.9858014583587646, b: 0.07727669924497604\n",
      "Loss: 0.0011831228621304035\n",
      "W: 1.9861515760421753, b: 0.07537095248699188\n",
      "Loss: 0.0011252203257754445\n",
      "W: 1.9864948987960815, b: 0.07350235432386398\n",
      "Loss: 0.0010698678670451045\n",
      "W: 1.986831545829773, b: 0.07167042046785355\n",
      "Loss: 0.0010169558227062225\n",
      "W: 1.98716139793396, b: 0.06987465918064117\n",
      "Loss: 0.0009663872187957168\n",
      "W: 1.9874848127365112, b: 0.06811462342739105\n",
      "Loss: 0.0009180938941426575\n",
      "W: 1.9878017902374268, b: 0.06638983637094498\n",
      "Loss: 0.0008719697361811996\n",
      "W: 1.9881123304367065, b: 0.06469979882240295\n",
      "Loss: 0.0008279305184260011\n",
      "W: 1.9884164333343506, b: 0.06304405629634857\n",
      "Loss: 0.0007859100005589426\n",
      "W: 1.9887144565582275, b: 0.06142218038439751\n",
      "Loss: 0.0007458007312379777\n",
      "W: 1.989006519317627, b: 0.059833671897649765\n",
      "Loss: 0.0007075391476973891\n",
      "W: 1.9892921447753906, b: 0.058278005570173264\n",
      "Loss: 0.0006710572051815689\n",
      "W: 1.9895721673965454, b: 0.05675479769706726\n",
      "Loss: 0.0006362693384289742\n",
      "W: 1.9898463487625122, b: 0.05526353046298027\n",
      "Loss: 0.0006031138473190367\n",
      "W: 1.9901145696640015, b: 0.05380368232727051\n",
      "Loss: 0.000571533280890435\n",
      "W: 1.9903768301010132, b: 0.05237488076090813\n",
      "Loss: 0.0005414403276517987\n",
      "W: 1.9906337261199951, b: 0.05097673833370209\n",
      "Loss: 0.0005127785843797028\n",
      "W: 1.9908851385116577, b: 0.04960877075791359\n",
      "Loss: 0.000485507509438321\n",
      "W: 1.9911309480667114, b: 0.04827049747109413\n",
      "Loss: 0.0004595394420903176\n",
      "W: 1.991371512413025, b: 0.04696148261427879\n",
      "Loss: 0.0004348448128439486\n",
      "W: 1.9916067123413086, b: 0.04568123817443848\n",
      "Loss: 0.0004113506875000894\n",
      "W: 1.991836667060852, b: 0.04442933201789856\n",
      "Loss: 0.00038901035441085696\n",
      "W: 1.9920616149902344, b: 0.043205324560403824\n",
      "Loss: 0.00036776892375200987\n",
      "W: 1.992281436920166, b: 0.042008787393569946\n",
      "Loss: 0.0003475928388070315\n",
      "W: 1.9924962520599365, b: 0.040839262306690216\n",
      "Loss: 0.0003284127451479435\n",
      "W: 1.992706298828125, b: 0.03969632834196091\n",
      "Loss: 0.0003102062619291246\n",
      "W: 1.9929115772247314, b: 0.03857950493693352\n",
      "Loss: 0.0002929093025159091\n",
      "W: 1.9931120872497559, b: 0.037488341331481934\n",
      "Loss: 0.0002765036770142615\n",
      "W: 1.9933079481124878, b: 0.036422450095415115\n",
      "Loss: 0.00026093103224411607\n",
      "W: 1.9934991598129272, b: 0.035381417721509933\n",
      "Loss: 0.00024615752045065165\n",
      "W: 1.9936858415603638, b: 0.03436485305428505\n",
      "Loss: 0.0002321580977877602\n",
      "W: 1.9938682317733765, b: 0.03337233513593674\n",
      "Loss: 0.0002188739163102582\n",
      "W: 1.9940463304519653, b: 0.032403409481048584\n",
      "Loss: 0.0002062884741462767\n",
      "W: 1.9942201375961304, b: 0.03145766258239746\n",
      "Loss: 0.0001943699608091265\n",
      "W: 1.9943896532058716, b: 0.030534669756889343\n",
      "Loss: 0.00018308070139028132\n",
      "W: 1.994555115699768, b: 0.029634077101945877\n",
      "Loss: 0.0001723914174363017\n",
      "W: 1.9947166442871094, b: 0.028755459934473038\n",
      "Loss: 0.00016227125888690352\n",
      "W: 1.9948742389678955, b: 0.027898374944925308\n",
      "Loss: 0.0001526923879282549\n",
      "W: 1.995027780532837, b: 0.02706240862607956\n",
      "Loss: 0.00014363953960128129\n",
      "W: 1.9951773881912231, b: 0.026247229427099228\n",
      "Loss: 0.0001350819948129356\n",
      "W: 1.9953234195709229, b: 0.02545250579714775\n",
      "Loss: 0.0001269870699616149\n",
      "W: 1.9954657554626465, b: 0.024677837267518044\n",
      "Loss: 0.00011933996574953198\n",
      "W: 1.9956045150756836, b: 0.02392282336950302\n",
      "Loss: 0.00011211285891477019\n",
      "W: 1.9957396984100342, b: 0.0231870599091053\n",
      "Loss: 0.00010529205610509962\n",
      "W: 1.9958714246749878, b: 0.022470172494649887\n",
      "Loss: 9.885218605631962e-05\n",
      "W: 1.9959996938705444, b: 0.02177179977297783\n",
      "Loss: 9.277513163397089e-05\n",
      "W: 1.9961247444152832, b: 0.021091612055897713\n",
      "Loss: 8.704297943040729e-05\n",
      "W: 1.996246337890625, b: 0.020429223775863647\n",
      "Loss: 8.163669554051012e-05\n",
      "W: 1.9963648319244385, b: 0.019784295931458473\n",
      "Loss: 7.65400764066726e-05\n",
      "W: 1.9964802265167236, b: 0.019156478345394135\n",
      "Loss: 7.173579797381535e-05\n",
      "W: 1.9965925216674805, b: 0.01854540966451168\n",
      "Loss: 6.721323006786406e-05\n",
      "W: 1.996701955795288, b: 0.017950698733329773\n",
      "Loss: 6.295005732681602e-05\n",
      "W: 1.9968082904815674, b: 0.017371976748108864\n",
      "Loss: 5.893593333894387e-05\n",
      "W: 1.9969117641448975, b: 0.01680891402065754\n",
      "Loss: 5.5162519856821746e-05\n",
      "W: 1.9970122575759888, b: 0.0162612646818161\n",
      "Loss: 5.16116815560963e-05\n",
      "W: 1.9971100091934204, b: 0.015728723257780075\n",
      "Loss: 4.8272271669702604e-05\n",
      "W: 1.997205138206482, b: 0.015210981480777264\n",
      "Loss: 4.513033854891546e-05\n",
      "W: 1.9972976446151733, b: 0.014707706868648529\n",
      "Loss: 4.217848618282005e-05\n",
      "W: 1.9973875284194946, b: 0.01421855017542839\n",
      "Loss: 3.940769238397479e-05\n",
      "W: 1.9974749088287354, b: 0.01374316867440939\n",
      "Loss: 3.680495865410194e-05\n",
      "W: 1.997559666633606, b: 0.013281254097819328\n",
      "Loss: 3.436233237152919e-05\n",
      "W: 1.997642159461975, b: 0.012832574546337128\n",
      "Loss: 3.2068601285573095e-05\n",
      "W: 1.9977222681045532, b: 0.012396769598126411\n",
      "Loss: 2.9916562198195606e-05\n",
      "W: 1.9978001117706299, b: 0.011973532848060131\n",
      "Loss: 2.7899477572645992e-05\n",
      "W: 1.9978755712509155, b: 0.011562570929527283\n",
      "Loss: 2.6009289285866544e-05\n",
      "W: 1.9979488849639893, b: 0.011163651943206787\n",
      "Loss: 2.4237724574049935e-05\n",
      "W: 1.9980199337005615, b: 0.010776503011584282\n",
      "Loss: 2.2577800336875953e-05\n",
      "W: 1.9980889558792114, b: 0.01040084008127451\n",
      "Loss: 2.102301732520573e-05\n",
      "W: 1.998155951499939, b: 0.010036380961537361\n",
      "Loss: 1.956984488060698e-05\n",
      "W: 1.9982209205627441, b: 0.00968286395072937\n",
      "Loss: 1.820889701775741e-05\n",
      "W: 1.998283863067627, b: 0.009340022690594196\n",
      "Loss: 1.6935828170971945e-05\n",
      "W: 1.9983450174331665, b: 0.00900760293006897\n",
      "Loss: 1.5745967175462283e-05\n",
      "W: 1.9984041452407837, b: 0.008685333654284477\n",
      "Loss: 1.4634949366154615e-05\n",
      "W: 1.9984616041183472, b: 0.008372967131435871\n",
      "Loss: 1.3596051758213434e-05\n",
      "W: 1.9985171556472778, b: 0.00807026494294405\n",
      "Loss: 1.2627378055185545e-05\n",
      "W: 1.9985711574554443, b: 0.007776990067213774\n",
      "Loss: 1.1721474947989918e-05\n",
      "W: 1.998623251914978, b: 0.007492890115827322\n",
      "Loss: 1.087706368707586e-05\n",
      "W: 1.9986737966537476, b: 0.007217750884592533\n",
      "Loss: 1.008867911878042e-05\n",
      "W: 1.998722791671753, b: 0.006951328832656145\n",
      "Loss: 9.355115253129043e-06\n",
      "W: 1.9987701177597046, b: 0.006693401839584112\n",
      "Loss: 8.669989256304689e-06\n",
      "W: 1.9988160133361816, b: 0.006443762220442295\n",
      "Loss: 8.033034646359738e-06\n",
      "W: 1.998860478401184, b: 0.006202173884958029\n",
      "Loss: 7.439256478392053e-06\n",
      "W: 1.9989033937454224, b: 0.00596842123195529\n",
      "Loss: 6.8857652877341025e-06\n",
      "W: 1.998944878578186, b: 0.005742321722209454\n",
      "Loss: 6.372058578563156e-06\n",
      "W: 1.9989850521087646, b: 0.005523657891899347\n",
      "Loss: 5.8934997468895745e-06\n",
      "W: 1.9990239143371582, b: 0.005312224850058556\n",
      "Loss: 5.44925296708243e-06\n",
      "W: 1.9990614652633667, b: 0.005107808858156204\n",
      "Loss: 5.035966751165688e-06\n",
      "W: 1.9990978240966797, b: 0.004910226911306381\n"
     ]
    }
   ],
   "source": [
    "# setup loss, and the learning rate with an optimizer\n",
    "# Run the training loop\n",
    "x_test = torch.tensor([[5]])\n",
    "y_test = torch.tensor([[10]])\n",
    "epochs = 1000\n",
    "\n",
    "for epoch in range(epochs):\n",
    "  model.train()\n",
    "\n",
    "  preds = model(X)\n",
    "  loss = loss_fn(preds, Y)\n",
    "  loss.backward()\n",
    "  optimizer.step()\n",
    "  optimizer.zero_grad()\n",
    "\n",
    "  if (epoch % 10) == 0:\n",
    "    print(f'Loss: {loss}')\n",
    "    w, b = model.parameters()\n",
    "    print(f'W: {w.item()}, b: {b.item()}')\n"
   ]
  },
  {
   "cell_type": "markdown",
   "id": "a2959d35",
   "metadata": {},
   "source": [
    "Recall our initial linear equation: y = wx:\n",
    "\n",
    "$$\n",
    "y=2x\n",
    "$$"
   ]
  },
  {
   "cell_type": "code",
   "execution_count": 194,
   "id": "da6fa12c",
   "metadata": {},
   "outputs": [
    {
     "data": {
      "text/plain": [
       "tensor([[21.9952],\n",
       "        [43.9856],\n",
       "        [87.9664]], device='mps:0', grad_fn=<LinearBackward0>)"
      ]
     },
     "execution_count": 194,
     "metadata": {},
     "output_type": "execute_result"
    }
   ],
   "source": [
    "X_test = torch.tensor([[11],[22],[44]], dtype=torch.float32).to('mps')\n",
    "Y_test = torch.tensor([[22],[44],[88]], dtype=torch.float32).to('mps')\n",
    "model(X_test)"
   ]
  },
  {
   "cell_type": "code",
   "execution_count": 185,
   "id": "777c942e",
   "metadata": {},
   "outputs": [
    {
     "data": {
      "image/png": "[encoded data removed]",
      "text/plain": [
       "<Figure size 640x480 with 1 Axes>"
      ]
     },
     "metadata": {},
     "output_type": "display_data"
    }
   ],
   "source": [
    "import matplotlib.pyplot as plt\n",
    "\n",
    "plt.axhline(y=0, color='k')\n",
    "plt.axvline(x=0, color='k')\n",
    "plt.plot(X.to('cpu'), Y.to('cpu'))\n",
    "plt.grid()\n",
    "plt.show()"
   ]
  },
  {
   "cell_type": "markdown",
   "id": "0a008283",
   "metadata": {},
   "source": [
    "# First Neural Net"
   ]
  },
  {
   "cell_type": "code",
   "execution_count": 201,
   "id": "8dab4b31",
   "metadata": {},
   "outputs": [
    {
     "data": {
      "text/plain": [
       "device(type='mps')"
      ]
     },
     "execution_count": 201,
     "metadata": {},
     "output_type": "execute_result"
    }
   ],
   "source": [
    "import torch\n",
    "import torch.nn as nn\n",
    "import torchvision\n",
    "import torchvision.transforms as transforms\n",
    "import matplotlib.pyplot as plt\n",
    "\n",
    "device = get_device()\n",
    "device"
   ]
  },
  {
   "cell_type": "code",
   "execution_count": 203,
   "id": "1c03d2af",
   "metadata": {},
   "outputs": [],
   "source": [
    "# Setup hyperparameters\n",
    "batch_size=32"
   ]
  },
  {
   "cell_type": "markdown",
   "id": "5fc6fab5",
   "metadata": {},
   "source": [
    "Load Datasets and Data Loaders from ready made datasets"
   ]
  },
  {
   "cell_type": "code",
   "execution_count": 204,
   "id": "2b2df3ff",
   "metadata": {},
   "outputs": [
    {
     "data": {
      "text/plain": [
       "(Dataset MNIST\n",
       "     Number of datapoints: 60000\n",
       "     Root location: ./data\n",
       "     Split: Train\n",
       "     StandardTransform\n",
       " Transform: ToTensor(),\n",
       " Dataset MNIST\n",
       "     Number of datapoints: 10000\n",
       "     Root location: ./data\n",
       "     Split: Test\n",
       "     StandardTransform\n",
       " Transform: ToTensor())"
      ]
     },
     "execution_count": 204,
     "metadata": {},
     "output_type": "execute_result"
    }
   ],
   "source": [
    "train_dataset = torchvision.datasets.MNIST(\n",
    "  root='./data',\n",
    "  train=True,\n",
    "  transform=transforms.ToTensor(),\n",
    "  download=True\n",
    ")\n",
    "\n",
    "test_dataset = torchvision.datasets.MNIST(\n",
    "  root='./data',\n",
    "  train=False,\n",
    "  transform=transforms.ToTensor(),\n",
    ")\n",
    "train_dataset, test_dataset"
   ]
  },
  {
   "cell_type": "code",
   "execution_count": 252,
   "id": "1901785e",
   "metadata": {},
   "outputs": [
    {
     "data": {
      "text/plain": [
       "(<torch.utils.data.dataloader.DataLoader at 0x116d6e840>,\n",
       " <torch.utils.data.dataloader.DataLoader at 0x117154380>)"
      ]
     },
     "execution_count": 252,
     "metadata": {},
     "output_type": "execute_result"
    }
   ],
   "source": [
    "train_loader = torch.utils.data.DataLoader(\n",
    "  dataset=train_dataset,\n",
    "  batch_size=batch_size,\n",
    "  shuffle=True\n",
    ")\n",
    "test_loader = torch.utils.data.DataLoader(\n",
    "  dataset=test_dataset,\n",
    "  batch_size=batch_size,\n",
    "  shuffle=False\n",
    ")\n",
    "\n",
    "train_loader, test_loader"
   ]
  },
  {
   "cell_type": "code",
   "execution_count": 211,
   "id": "766cee64",
   "metadata": {},
   "outputs": [
    {
     "data": {
      "text/plain": [
       "(torch.Size([32, 1, 28, 28]), torch.Size([32]))"
      ]
     },
     "execution_count": 211,
     "metadata": {},
     "output_type": "execute_result"
    }
   ],
   "source": [
    "examples = iter(train_loader)\n",
    "example_data, example_targets = next(examples)\n",
    "example_data.shape, example_targets.shape"
   ]
  },
  {
   "cell_type": "code",
   "execution_count": 212,
   "id": "4b909c30",
   "metadata": {},
   "outputs": [
    {
     "data": {
      "text/plain": [
       "tensor([5, 1, 1, 9, 2, 3, 4, 7, 5, 0, 9, 6, 6, 3, 3, 8, 4, 2, 5, 2, 2, 8, 8, 2,\n",
       "        8, 1, 6, 7, 4, 3, 3, 8])"
      ]
     },
     "execution_count": 212,
     "metadata": {},
     "output_type": "execute_result"
    }
   ],
   "source": [
    "example_targets"
   ]
  },
  {
   "cell_type": "code",
   "execution_count": 214,
   "id": "8a587628",
   "metadata": {},
   "outputs": [
    {
     "data": {
      "text/plain": [
       "torch.Size([1, 28, 28])"
      ]
     },
     "execution_count": 214,
     "metadata": {},
     "output_type": "execute_result"
    }
   ],
   "source": [
    "example_data[0].shape"
   ]
  },
  {
   "cell_type": "code",
   "execution_count": 220,
   "id": "de3e1e6e",
   "metadata": {},
   "outputs": [
    {
     "data": {
      "image/png": "[encoded data removed]",
      "text/plain": [
       "<Figure size 1000x1000 with 6 Axes>"
      ]
     },
     "metadata": {},
     "output_type": "display_data"
    }
   ],
   "source": [
    "import matplotlib.pyplot as plt\n",
    "\n",
    "# Assuming batch_size=32, display first 9 images in a 3x3 grid\n",
    "num_images = 6\n",
    "fig, axes = plt.subplots(nrows=2, ncols=3, figsize=(10, 10))\n",
    "\n",
    "for i in range(num_images):\n",
    "    row = i // 3\n",
    "    col = i % 3\n",
    "    # Squeeze to remove channel dim (1, 28, 28) -> (28, 28)\n",
    "    img = example_data[i].squeeze().cpu().numpy()\n",
    "    axes[row, col].imshow(img, cmap='gray')\n",
    "    axes[row, col].set_title(f'Label: {example_targets[i].item()}')\n",
    "    axes[row, col].axis('off')  # Hide axes for cleaner look\n",
    "\n",
    "plt.tight_layout()\n",
    "plt.show()"
   ]
  },
  {
   "cell_type": "code",
   "execution_count": 303,
   "id": "0e356eca",
   "metadata": {},
   "outputs": [
    {
     "data": {
      "text/plain": [
       "NeuralNet(\n",
       "  (flatten): Flatten(start_dim=1, end_dim=-1)\n",
       "  (linear): Linear(in_features=784, out_features=300, bias=True)\n",
       "  (relu): ReLU()\n",
       "  (output): Linear(in_features=300, out_features=10, bias=True)\n",
       ")"
      ]
     },
     "execution_count": 303,
     "metadata": {},
     "output_type": "execute_result"
    }
   ],
   "source": [
    "# Let's create a neural net for classification of images\n",
    "# we have an image of 28x28 and we need to flatten this and give it to a network\n",
    "# 28x28 => 784 1D tensor\n",
    "# Input layer = shape 784 (and we have 32 in each batch) so input shape will be (32,784)\n",
    "# Second layer is linear then relu then linear (with output shape 10 -> number of classes)\n",
    "\n",
    "class NeuralNet(nn.Module):\n",
    "  def __init__(self, input_shape=784, hidden_dim=300, output_shape=10):\n",
    "    super(NeuralNet, self).__init__()\n",
    "    self.flatten = nn.Flatten()\n",
    "    self.linear = nn.Linear(in_features=input_shape, out_features=hidden_dim)\n",
    "    self.relu = nn.ReLU()\n",
    "    self.output = nn.Linear(in_features=hidden_dim, out_features=output_shape)\n",
    "\n",
    "  def forward(self, x):\n",
    "    x = self.flatten(x)\n",
    "    z = self.linear(x)\n",
    "    z = self.relu(z)\n",
    "    return self.output(z)\n",
    "  \n",
    "nn_model = NeuralNet().to('mps')\n",
    "nn_model"
   ]
  },
  {
   "cell_type": "markdown",
   "id": "81b5b097",
   "metadata": {},
   "source": [
    "Let's move our data to device and test our model with one example"
   ]
  },
  {
   "cell_type": "code",
   "execution_count": 304,
   "id": "62b87830",
   "metadata": {},
   "outputs": [
    {
     "data": {
      "text/plain": [
       "(tensor([[[[0., 0., 0.,  ..., 0., 0., 0.],\n",
       "           [0., 0., 0.,  ..., 0., 0., 0.],\n",
       "           [0., 0., 0.,  ..., 0., 0., 0.],\n",
       "           ...,\n",
       "           [0., 0., 0.,  ..., 0., 0., 0.],\n",
       "           [0., 0., 0.,  ..., 0., 0., 0.],\n",
       "           [0., 0., 0.,  ..., 0., 0., 0.]]],\n",
       " \n",
       " \n",
       "         [[[0., 0., 0.,  ..., 0., 0., 0.],\n",
       "           [0., 0., 0.,  ..., 0., 0., 0.],\n",
       "           [0., 0., 0.,  ..., 0., 0., 0.],\n",
       "           ...,\n",
       "           [0., 0., 0.,  ..., 0., 0., 0.],\n",
       "           [0., 0., 0.,  ..., 0., 0., 0.],\n",
       "           [0., 0., 0.,  ..., 0., 0., 0.]]],\n",
       " \n",
       " \n",
       "         [[[0., 0., 0.,  ..., 0., 0., 0.],\n",
       "           [0., 0., 0.,  ..., 0., 0., 0.],\n",
       "           [0., 0., 0.,  ..., 0., 0., 0.],\n",
       "           ...,\n",
       "           [0., 0., 0.,  ..., 0., 0., 0.],\n",
       "           [0., 0., 0.,  ..., 0., 0., 0.],\n",
       "           [0., 0., 0.,  ..., 0., 0., 0.]]],\n",
       " \n",
       " \n",
       "         ...,\n",
       " \n",
       " \n",
       "         [[[0., 0., 0.,  ..., 0., 0., 0.],\n",
       "           [0., 0., 0.,  ..., 0., 0., 0.],\n",
       "           [0., 0., 0.,  ..., 0., 0., 0.],\n",
       "           ...,\n",
       "           [0., 0., 0.,  ..., 0., 0., 0.],\n",
       "           [0., 0., 0.,  ..., 0., 0., 0.],\n",
       "           [0., 0., 0.,  ..., 0., 0., 0.]]],\n",
       " \n",
       " \n",
       "         [[[0., 0., 0.,  ..., 0., 0., 0.],\n",
       "           [0., 0., 0.,  ..., 0., 0., 0.],\n",
       "           [0., 0., 0.,  ..., 0., 0., 0.],\n",
       "           ...,\n",
       "           [0., 0., 0.,  ..., 0., 0., 0.],\n",
       "           [0., 0., 0.,  ..., 0., 0., 0.],\n",
       "           [0., 0., 0.,  ..., 0., 0., 0.]]],\n",
       " \n",
       " \n",
       "         [[[0., 0., 0.,  ..., 0., 0., 0.],\n",
       "           [0., 0., 0.,  ..., 0., 0., 0.],\n",
       "           [0., 0., 0.,  ..., 0., 0., 0.],\n",
       "           ...,\n",
       "           [0., 0., 0.,  ..., 0., 0., 0.],\n",
       "           [0., 0., 0.,  ..., 0., 0., 0.],\n",
       "           [0., 0., 0.,  ..., 0., 0., 0.]]]], device='mps:0'),\n",
       " tensor([5, 1, 1, 9, 2, 3, 4, 7, 5, 0, 9, 6, 6, 3, 3, 8, 4, 2, 5, 2, 2, 8, 8, 2,\n",
       "         8, 1, 6, 7, 4, 3, 3, 8], device='mps:0'))"
      ]
     },
     "execution_count": 304,
     "metadata": {},
     "output_type": "execute_result"
    }
   ],
   "source": [
    "example_data.to('mps'), example_targets.to('mps')"
   ]
  },
  {
   "cell_type": "code",
   "execution_count": 305,
   "id": "9d486ef7",
   "metadata": {},
   "outputs": [],
   "source": [
    "loss_fn = torch.nn.CrossEntropyLoss()\n",
    "optimizer = torch.optim.SGD(nn_model.parameters(), lr=0.01)"
   ]
  },
  {
   "cell_type": "code",
   "execution_count": 306,
   "id": "c11b9b88",
   "metadata": {},
   "outputs": [
    {
     "data": {
      "text/plain": [
       "{'accuracy': 0.6666666666666666}"
      ]
     },
     "execution_count": 306,
     "metadata": {},
     "output_type": "execute_result"
    }
   ],
   "source": [
    "import evaluate\n",
    "accuracy_fn = evaluate.load('accuracy')\n",
    "accuracy_fn.compute(references=[1,2,3], predictions=[1,2,1])"
   ]
  },
  {
   "cell_type": "code",
   "execution_count": 307,
   "id": "5aade5ff",
   "metadata": {},
   "outputs": [],
   "source": [
    "import evaluate\n",
    "acc_fn = evaluate.load('accuracy')\n",
    "def accuracy_fn(y_preds, y_true):\n",
    "  return acc_fn.compute(references=y_preds, predictions=y_true)['accuracy']"
   ]
  },
  {
   "cell_type": "code",
   "execution_count": 308,
   "id": "2a99aa44",
   "metadata": {},
   "outputs": [
    {
     "data": {
      "text/plain": [
       "tensor(0)"
      ]
     },
     "execution_count": 308,
     "metadata": {},
     "output_type": "execute_result"
    }
   ],
   "source": [
    "torch.argmax(torch.softmax(torch.tensor([4,2,3], dtype=torch.float32), dim=0))"
   ]
  },
  {
   "cell_type": "code",
   "execution_count": 309,
   "id": "c7ca0487",
   "metadata": {},
   "outputs": [
    {
     "data": {
      "text/plain": [
       "313"
      ]
     },
     "execution_count": 309,
     "metadata": {},
     "output_type": "execute_result"
    }
   ],
   "source": [
    "len(test_loader)"
   ]
  },
  {
   "cell_type": "code",
   "execution_count": 310,
   "id": "9cee4f9f",
   "metadata": {},
   "outputs": [
    {
     "name": "stdout",
     "output_type": "stream",
     "text": [
      "Epoch: 0, Avg Loss: 0.8588\n",
      "Test loss: 0.40313430082874174, Test accuracy: 0.8950678913738019\n",
      "Epoch: 1, Avg Loss: 0.3707\n",
      "Test loss: 0.3207221159610314, Test accuracy: 0.9092452076677316\n",
      "Epoch: 2, Avg Loss: 0.3167\n",
      "Test loss: 0.2873072275481285, Test accuracy: 0.9195287539936102\n",
      "Epoch: 3, Avg Loss: 0.2858\n",
      "Test loss: 0.2622605818368423, Test accuracy: 0.9259185303514377\n",
      "Epoch: 4, Avg Loss: 0.2621\n",
      "Test loss: 0.243568660637822, Test accuracy: 0.9293130990415336\n",
      "Epoch: 5, Avg Loss: 0.2428\n",
      "Test loss: 0.2274282820754872, Test accuracy: 0.93560303514377\n",
      "Epoch: 6, Avg Loss: 0.2259\n",
      "Test loss: 0.21360779705698402, Test accuracy: 0.9379992012779552\n",
      "Epoch: 7, Avg Loss: 0.2111\n",
      "Test loss: 0.19960592369200847, Test accuracy: 0.9427915335463258\n",
      "Epoch: 8, Avg Loss: 0.1978\n",
      "Test loss: 0.18925779527231765, Test accuracy: 0.9456869009584664\n",
      "Epoch: 9, Avg Loss: 0.1863\n",
      "Test loss: 0.17781065857579437, Test accuracy: 0.9487819488817891\n",
      "Epoch: 10, Avg Loss: 0.1753\n",
      "Test loss: 0.16916981382747762, Test accuracy: 0.9512779552715654\n",
      "Epoch: 11, Avg Loss: 0.1658\n",
      "Test loss: 0.16117184059605144, Test accuracy: 0.9518769968051118\n",
      "Epoch: 12, Avg Loss: 0.1567\n",
      "Test loss: 0.15521344178975127, Test accuracy: 0.9545726837060703\n",
      "Epoch: 13, Avg Loss: 0.1487\n",
      "Test loss: 0.1474235352023115, Test accuracy: 0.9571685303514377\n",
      "Epoch: 14, Avg Loss: 0.1413\n",
      "Test loss: 0.14071994049016373, Test accuracy: 0.9587659744408946\n",
      "Epoch: 15, Avg Loss: 0.1348\n",
      "Test loss: 0.1356917957808025, Test accuracy: 0.9603634185303515\n",
      "Epoch: 16, Avg Loss: 0.1284\n",
      "Test loss: 0.12979369590872714, Test accuracy: 0.9628594249201278\n",
      "Epoch: 17, Avg Loss: 0.1227\n",
      "Test loss: 0.1254276354074145, Test accuracy: 0.9630591054313099\n",
      "Epoch: 18, Avg Loss: 0.1175\n",
      "Test loss: 0.12062729407360735, Test accuracy: 0.9648562300319489\n",
      "Epoch: 19, Avg Loss: 0.1124\n",
      "Test loss: 0.11833237645925936, Test accuracy: 0.9658546325878594\n",
      "Epoch: 20, Avg Loss: 0.1079\n",
      "Test loss: 0.11377035479095524, Test accuracy: 0.9665535143769968\n",
      "Epoch: 21, Avg Loss: 0.1038\n",
      "Test loss: 0.1107961834689525, Test accuracy: 0.9684504792332268\n",
      "Epoch: 22, Avg Loss: 0.0998\n",
      "Test loss: 0.10790409759942668, Test accuracy: 0.9699480830670927\n",
      "Epoch: 23, Avg Loss: 0.0963\n",
      "Test loss: 0.10441374154605221, Test accuracy: 0.9698482428115016\n",
      "Epoch: 24, Avg Loss: 0.0927\n",
      "Test loss: 0.1011319437674946, Test accuracy: 0.9709464856230032\n"
     ]
    }
   ],
   "source": [
    "epochs = 25 \n",
    "\n",
    "for epoch in range(epochs):\n",
    "  nn_model.train() \n",
    "  epoch_loss = 0.0\n",
    "  num_batches = 0\n",
    "  \n",
    "  for step, (X, y) in enumerate(train_loader):\n",
    "    X, y = X.to(device), y.to(device)\n",
    "    preds = nn_model(X)\n",
    "    loss = loss_fn(preds, y)\n",
    "    \n",
    "    loss.backward()  # Compute gradients\n",
    "    optimizer.step()  # Update weights\n",
    "    optimizer.zero_grad()  # Zero gradients\n",
    "\n",
    "    epoch_loss += loss.item()  # Accumulate loss\n",
    "    num_batches += 1\n",
    "  \n",
    "  train_avg_loss = epoch_loss / num_batches  # Average loss\n",
    "  print(f'Epoch: {epoch}, Avg Loss: {train_avg_loss:.4f}')\n",
    "  test_acc = 0\n",
    "  test_loss = 0\n",
    "  with torch.inference_mode():\n",
    "    model.eval()\n",
    "    for X, y in test_loader:\n",
    "      X, y = X.to(device), y.to(device)\n",
    "      preds = nn_model(X)\n",
    "      test_loss += loss_fn(preds, y).item()\n",
    "      pred_classes = torch.argmax(torch.softmax(preds, dim=1), dim=1)\n",
    "      test_acc += accuracy_fn(pred_classes, y)\n",
    "\n",
    "    test_avg_acc = test_acc / len(test_loader)\n",
    "    test_avg_loss = test_loss / len(test_loader)\n",
    "    print(f'Test loss: {test_avg_loss}, Test accuracy: {test_avg_acc}')"
   ]
  },
  {
   "cell_type": "code",
   "execution_count": null,
   "id": "bc683636",
   "metadata": {},
   "outputs": [],
   "source": []
  }
 ],
 "metadata": {
  "kernelspec": {
   "display_name": "learn-pytorch",
   "language": "python",
   "name": "python3"
  },
  "language_info": {
   "codemirror_mode": {
    "name": "ipython",
    "version": 3
   },
   "file_extension": ".py",
   "mimetype": "text/x-python",
   "name": "python",
   "nbconvert_exporter": "python",
   "pygments_lexer": "ipython3",
   "version": "3.12.6"
  }
 },
 "nbformat": 4,
 "nbformat_minor": 5
}
