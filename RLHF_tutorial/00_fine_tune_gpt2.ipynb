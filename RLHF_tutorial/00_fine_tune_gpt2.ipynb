{
 "cells": [
  {
   "cell_type": "code",
   "execution_count": 1,
   "id": "0b240891",
   "metadata": {},
   "outputs": [
    {
     "name": "stdout",
     "output_type": "stream",
     "text": [
      "{'review': 'The ambiance was wonderful and the service was top-notch, but the pasta was unfortunately overcooked and bland. The dessert, however, a chocolate lava cake, was divine.', 'summary': 'Good service and dessert, but the main course was disappointing.'}\n"
     ]
    },
    {
     "data": {
      "text/plain": [
       "[{'review': 'The ambiance was wonderful and the service was top-notch, but the pasta was unfortunately overcooked and bland. The dessert, however, a chocolate lava cake, was divine.',\n",
       "  'summary': 'Good service and dessert, but the main course was disappointing.'},\n",
       " {'review': 'I waited for 45 minutes just to be seated, and another hour for my food. The steak was tough and the fries were cold. I will not be coming back.',\n",
       "  'summary': 'Long wait times and poor food quality led to a bad experience.'},\n",
       " {'review': 'Absolutely spectacular! From the moment we walked in, we were treated like royalty. Every dish was a masterpiece of flavor and presentation. A truly unforgettable night.',\n",
       "  'summary': 'The restaurant offered an exceptional experience with outstanding food.'}]"
      ]
     },
     "execution_count": 1,
     "metadata": {},
     "output_type": "execute_result"
    }
   ],
   "source": [
    "from fine_tune import training_data\n",
    "training_data"
   ]
  },
  {
   "cell_type": "code",
   "execution_count": 2,
   "id": "a18bb534",
   "metadata": {},
   "outputs": [
    {
     "name": "stderr",
     "output_type": "stream",
     "text": [
      "/Users/christoschristodoulou/learning_projects/learn_pytorch/.venv/lib/python3.12/site-packages/tqdm/auto.py:21: TqdmWarning: IProgress not found. Please update jupyter and ipywidgets. See https://ipywidgets.readthedocs.io/en/stable/user_install.html\n",
      "  from .autonotebook import tqdm as notebook_tqdm\n"
     ]
    },
    {
     "name": "stdout",
     "output_type": "stream",
     "text": [
      "\n",
      "--- Tokenizer Output ---\n",
      "These are the token IDs for the first review:\n",
      "[14832, 25, 383, 4915, 3610, 373, 7932, 290, 262, 2139, 373, 1353, 12, 1662, 354, 11, 475, 262, 26296, 373, 12716, 25676, 46288, 290, 34377, 13, 383, 23084, 11, 2158, 11, 257, 11311, 28856, 12187, 11, 373, 11871, 13, 198, 22093, 25, 4599, 2139, 290, 23084, 11, 475, 262, 1388, 1781, 373, 17185, 13]\n",
      "[14832, 25, 314, 13488, 329, 4153, 2431, 655, 284, 307, 21639, 11, 290, 1194, 1711, 329, 616, 2057, 13, 383, 26320, 373, 5802, 290, 262, 31757, 547, 4692, 13, 314, 481, 407, 307, 2406, 736, 13, 198, 22093, 25, 5882, 4043, 1661, 290, 3595, 2057, 3081, 2957, 284, 257, 2089, 1998, 13, 50256, 50256]\n"
     ]
    }
   ],
   "source": [
    "from transformers import AutoTokenizer\n",
    "\n",
    "# --- Add this new code below your existing training_data list ---\n",
    "\n",
    "# 1. Load the tokenizer for our chosen model\n",
    "model_name = \"distilgpt2\"\n",
    "tokenizer = AutoTokenizer.from_pretrained(model_name)\n",
    "\n",
    "# A tokenizer needs a padding token to make all sequences the same length.\n",
    "# We'll use the \"end of sentence\" token as our padding token.\n",
    "tokenizer.pad_token = tokenizer.eos_token\n",
    "\n",
    "# 2. Format the data into a single string for each example\n",
    "# We're creating a temporary list to hold our formatted text\n",
    "formatted_texts = []\n",
    "for item in training_data:\n",
    "    text = f\"Review: {item['review']}\\nSummary: {item['summary']}\"\n",
    "    formatted_texts.append(text)\n",
    "\n",
    "# 3. Tokenize the formatted text\n",
    "# This converts our list of strings into a dictionary of numbers\n",
    "tokenized_data = tokenizer(formatted_texts, padding=True, truncation=True, max_length=256)\n",
    "\n",
    "# Let's inspect the output for our first review\n",
    "print(\"\\n--- Tokenizer Output ---\")\n",
    "print(\"These are the token IDs for the first review:\")\n",
    "print(tokenized_data['input_ids'][0])\n",
    "print(tokenized_data['input_ids'][1])"
   ]
  },
  {
   "cell_type": "code",
   "execution_count": 3,
   "id": "ad1d77fe",
   "metadata": {},
   "outputs": [
    {
     "name": "stderr",
     "output_type": "stream",
     "text": [
      "Map:   0%|          | 0/3 [00:00<?, ? examples/s]huggingface/tokenizers: The current process just got forked, after parallelism has already been used. Disabling parallelism to avoid deadlocks...\n",
      "To disable this warning, you can either:\n",
      "\t- Avoid using `tokenizers` before the fork if possible\n",
      "\t- Explicitly set the environment variable TOKENIZERS_PARALLELISM=(true | false)\n",
      "Map: 100%|██████████| 3/3 [00:00<00:00, 364.30 examples/s]\n"
     ]
    },
    {
     "name": "stdout",
     "output_type": "stream",
     "text": [
      "\n",
      "--- Starting Fine-Tuning ---\n"
     ]
    },
    {
     "name": "stderr",
     "output_type": "stream",
     "text": [
      "/Users/christoschristodoulou/learning_projects/learn_pytorch/.venv/lib/python3.12/site-packages/torch/utils/data/dataloader.py:683: UserWarning: 'pin_memory' argument is set as true but not supported on MPS now, then device pinned memory won't be used.\n",
      "  warnings.warn(warn_msg)\n",
      "`loss_type=None` was set in the config but it is unrecognised.Using the default loss: `ForCausalLMLoss`.\n"
     ]
    },
    {
     "data": {
      "text/html": [
       "\n",
       "    <div>\n",
       "      \n",
       "      <progress value='9' max='9' style='width:300px; height:20px; vertical-align: middle;'></progress>\n",
       "      [9/9 00:04, Epoch 3/3]\n",
       "    </div>\n",
       "    <table border=\"1\" class=\"dataframe\">\n",
       "  <thead>\n",
       " <tr style=\"text-align: left;\">\n",
       "      <th>Step</th>\n",
       "      <th>Training Loss</th>\n",
       "    </tr>\n",
       "  </thead>\n",
       "  <tbody>\n",
       "    <tr>\n",
       "      <td>1</td>\n",
       "      <td>3.888800</td>\n",
       "    </tr>\n",
       "    <tr>\n",
       "      <td>2</td>\n",
       "      <td>4.955200</td>\n",
       "    </tr>\n",
       "    <tr>\n",
       "      <td>3</td>\n",
       "      <td>3.734600</td>\n",
       "    </tr>\n",
       "    <tr>\n",
       "      <td>4</td>\n",
       "      <td>3.614700</td>\n",
       "    </tr>\n",
       "    <tr>\n",
       "      <td>5</td>\n",
       "      <td>3.904700</td>\n",
       "    </tr>\n",
       "    <tr>\n",
       "      <td>6</td>\n",
       "      <td>4.454600</td>\n",
       "    </tr>\n",
       "    <tr>\n",
       "      <td>7</td>\n",
       "      <td>3.387300</td>\n",
       "    </tr>\n",
       "    <tr>\n",
       "      <td>8</td>\n",
       "      <td>4.298000</td>\n",
       "    </tr>\n",
       "    <tr>\n",
       "      <td>9</td>\n",
       "      <td>3.676700</td>\n",
       "    </tr>\n",
       "  </tbody>\n",
       "</table><p>"
      ],
      "text/plain": [
       "<IPython.core.display.HTML object>"
      ]
     },
     "metadata": {},
     "output_type": "display_data"
    },
    {
     "name": "stdout",
     "output_type": "stream",
     "text": [
      "--- Fine-Tuning Complete ---\n"
     ]
    }
   ],
   "source": [
    "from transformers import AutoModelForCausalLM, Trainer, TrainingArguments\n",
    "from datasets import Dataset\n",
    "\n",
    "# --- Add this new code below the tokenizer section ---\n",
    "\n",
    "# 4. Prepare the data for the Trainer\n",
    "# The Trainer API expects a Hugging Face Dataset object.\n",
    "# First, we need to structure our tokenized data correctly.\n",
    "input_data = []\n",
    "for i in range(len(formatted_texts)):\n",
    "    input_data.append({'input_ids': tokenized_data['input_ids'][i], 'attention_mask': tokenized_data['attention_mask'][i]})\n",
    "\n",
    "# Create the Dataset object\n",
    "train_dataset = Dataset.from_list(input_data)\n",
    "\n",
    "# The model needs \"labels\" to calculate the loss. For language modeling,\n",
    "# the labels are typically just the input_ids themselves.\n",
    "def add_labels(examples):\n",
    "    examples[\"labels\"] = examples[\"input_ids\"][:]\n",
    "    return examples\n",
    "\n",
    "train_dataset = train_dataset.map(add_labels)\n",
    "\n",
    "\n",
    "# 5. Load the Model and Configure Training\n",
    "model = AutoModelForCausalLM.from_pretrained(model_name)\n",
    "\n",
    "# Define the training arguments. These are like the settings for our training run.\n",
    "training_args = TrainingArguments(\n",
    "    output_dir=\"./restaurant_summarizer\", # Where to save the model\n",
    "    num_train_epochs=3,                  # How many times to go through the data\n",
    "    per_device_train_batch_size=1,       # How many examples to process at once\n",
    "    logging_steps=1,                     # How often to log the training loss\n",
    ")\n",
    "\n",
    "# Create the Trainer\n",
    "trainer = Trainer(\n",
    "    model=model,\n",
    "    args=training_args,\n",
    "    train_dataset=train_dataset,\n",
    ")\n",
    "\n",
    "# 6. Start Fine-Tuning!\n",
    "print(\"\\n--- Starting Fine-Tuning ---\")\n",
    "trainer.train()\n",
    "print(\"--- Fine-Tuning Complete ---\")"
   ]
  },
  {
   "cell_type": "code",
   "execution_count": null,
   "id": "f2ae60c3",
   "metadata": {},
   "outputs": [],
   "source": []
  }
 ],
 "metadata": {
  "kernelspec": {
   "display_name": "learn-pytorch",
   "language": "python",
   "name": "python3"
  },
  "language_info": {
   "codemirror_mode": {
    "name": "ipython",
    "version": 3
   },
   "file_extension": ".py",
   "mimetype": "text/x-python",
   "name": "python",
   "nbconvert_exporter": "python",
   "pygments_lexer": "ipython3",
   "version": "3.12.6"
  }
 },
 "nbformat": 4,
 "nbformat_minor": 5
}
