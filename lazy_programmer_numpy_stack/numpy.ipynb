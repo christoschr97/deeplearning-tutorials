{
 "cells": [
  {
   "cell_type": "markdown",
   "id": "9e7b01db",
   "metadata": {},
   "source": [
    "# Numpy Tutorial"
   ]
  },
  {
   "cell_type": "code",
   "execution_count": 61,
   "id": "20a2336b",
   "metadata": {},
   "outputs": [],
   "source": [
    "import numpy as np"
   ]
  },
  {
   "cell_type": "code",
   "execution_count": 62,
   "id": "bd5febc7",
   "metadata": {},
   "outputs": [],
   "source": [
    "L = [1,2,3]\n",
    "A = np.array([1,2,3])"
   ]
  },
  {
   "cell_type": "code",
   "execution_count": 63,
   "id": "b26b0d0d",
   "metadata": {},
   "outputs": [
    {
     "name": "stdout",
     "output_type": "stream",
     "text": [
      "1\n",
      "2\n",
      "3\n"
     ]
    }
   ],
   "source": [
    "for e in L:\n",
    "    print(e)"
   ]
  },
  {
   "cell_type": "code",
   "execution_count": 64,
   "id": "be80ecb6",
   "metadata": {},
   "outputs": [
    {
     "name": "stdout",
     "output_type": "stream",
     "text": [
      "1\n",
      "2\n",
      "3\n"
     ]
    }
   ],
   "source": [
    "for e in A:\n",
    "  print(e)"
   ]
  },
  {
   "cell_type": "markdown",
   "id": "8705ca22",
   "metadata": {},
   "source": [
    "As we can see we can instantiate a list and an Array and also iterate through them in the same way.\n",
    "\n",
    "Let's proceed with another one common operation in list/arrays, to append/add an element to the list/array"
   ]
  },
  {
   "cell_type": "code",
   "execution_count": 65,
   "id": "825fa14a",
   "metadata": {},
   "outputs": [
    {
     "data": {
      "text/plain": [
       "[1, 2, 3, 4]"
      ]
     },
     "execution_count": 65,
     "metadata": {},
     "output_type": "execute_result"
    }
   ],
   "source": [
    "L.append(4)\n",
    "L"
   ]
  },
  {
   "cell_type": "code",
   "execution_count": 66,
   "id": "c25e89c9",
   "metadata": {},
   "outputs": [
    {
     "ename": "AttributeError",
     "evalue": "'numpy.ndarray' object has no attribute 'append'",
     "output_type": "error",
     "traceback": [
      "\u001b[31m---------------------------------------------------------------------------\u001b[39m",
      "\u001b[31mAttributeError\u001b[39m                            Traceback (most recent call last)",
      "\u001b[36mCell\u001b[39m\u001b[36m \u001b[39m\u001b[32mIn[66]\u001b[39m\u001b[32m, line 1\u001b[39m\n\u001b[32m----> \u001b[39m\u001b[32m1\u001b[39m \u001b[43mA\u001b[49m\u001b[43m.\u001b[49m\u001b[43mappend\u001b[49m(\u001b[32m4\u001b[39m)\n\u001b[32m      2\u001b[39m A\n",
      "\u001b[31mAttributeError\u001b[39m: 'numpy.ndarray' object has no attribute 'append'"
     ]
    }
   ],
   "source": [
    "A.append(4)\n",
    "A"
   ]
  },
  {
   "cell_type": "markdown",
   "id": "8cb088b2",
   "metadata": {},
   "source": [
    "Why is that error?\n",
    "\n",
    "Generally speaking the size of a list can change but the size of an array can't change. If you want to update an array, you will have to create a new one with the exact same elements  + the updated/appended element(s).\n",
    "\n",
    "Why is that? -> Because in Deep Learning `memory` and `efficiency` (recall memory management, data structures and algorithms theory) are crucial."
   ]
  },
  {
   "cell_type": "markdown",
   "id": "dcd4c02e",
   "metadata": {},
   "source": [
    "Let's consider a similar scenario were we can try to add an item on the list."
   ]
  },
  {
   "cell_type": "code",
   "execution_count": 67,
   "id": "2ce2ebde",
   "metadata": {},
   "outputs": [
    {
     "data": {
      "text/plain": [
       "[1, 2, 3, 4, 5]"
      ]
     },
     "execution_count": 67,
     "metadata": {},
     "output_type": "execute_result"
    }
   ],
   "source": [
    "L + [5]"
   ]
  },
  {
   "cell_type": "markdown",
   "id": "4b5f9e46",
   "metadata": {},
   "source": [
    "In lists, this plus operation means just: concatenate"
   ]
  },
  {
   "cell_type": "code",
   "execution_count": 68,
   "id": "0c85a413",
   "metadata": {},
   "outputs": [
    {
     "data": {
      "text/plain": [
       "array([6, 7, 8])"
      ]
     },
     "execution_count": 68,
     "metadata": {},
     "output_type": "execute_result"
    }
   ],
   "source": [
    "A + np.array(5)"
   ]
  },
  {
   "cell_type": "markdown",
   "id": "b3bee4f7",
   "metadata": {},
   "source": [
    "On the other hand, this operation is not the same when it comes to arrays, in arrays it adds them up element-wise. \n",
    "\n",
    "In numpy we call this `broadcasting`.\n",
    "\n",
    "Technically in maths, this is an illegal operation -> `you cannot add two vectors of different sizes`. However in numpy this makes total sense.\n",
    "\n",
    "Why is this allowed in numpy? Again efficiency comes to the forefront. By allowing this kind of operations we can leverage the underlying hardware more effectively, leading to faster computations and reduced memory usage. For example, imagine if you had to add a 5 to all the elements of `A`, you could do it in a single operation without the need for an explicit loop, or creating an new numpy array of the same size.\n"
   ]
  },
  {
   "cell_type": "markdown",
   "id": "5c08b454",
   "metadata": {},
   "source": [
    "Another one important reason why operations such as `A + np.array(5)` are allowed in numpy is that Numpy is all about doing Maths. Thats why in Python Lists you dont have such a capability"
   ]
  },
  {
   "cell_type": "markdown",
   "id": "afa6dde1",
   "metadata": {},
   "source": [
    "## Vector Addition"
   ]
  },
  {
   "cell_type": "code",
   "execution_count": 69,
   "id": "964dde82",
   "metadata": {},
   "outputs": [
    {
     "data": {
      "text/plain": [
       "array([5, 7, 9])"
      ]
     },
     "execution_count": 69,
     "metadata": {},
     "output_type": "execute_result"
    }
   ],
   "source": [
    "A + np.array([4,5,6])"
   ]
  },
  {
   "cell_type": "markdown",
   "id": "4ec0028b",
   "metadata": {},
   "source": [
    "As you can see now numpy was smart enough to do also vector addition, since the two arrays were of the same size.\n",
    "\n",
    "Note how intelligent broadcasting is in Numpy, it automatically expands the dimensions of the smaller array to match the larger array, allowing for element-wise operations without the need for explicit loops."
   ]
  },
  {
   "cell_type": "code",
   "execution_count": 70,
   "id": "c8de7eb2",
   "metadata": {},
   "outputs": [
    {
     "ename": "ValueError",
     "evalue": "operands could not be broadcast together with shapes (3,) (2,) ",
     "output_type": "error",
     "traceback": [
      "\u001b[31m---------------------------------------------------------------------------\u001b[39m",
      "\u001b[31mValueError\u001b[39m                                Traceback (most recent call last)",
      "\u001b[36mCell\u001b[39m\u001b[36m \u001b[39m\u001b[32mIn[70]\u001b[39m\u001b[32m, line 1\u001b[39m\n\u001b[32m----> \u001b[39m\u001b[32m1\u001b[39m \u001b[43mA\u001b[49m\u001b[43m \u001b[49m\u001b[43m+\u001b[49m\u001b[43m \u001b[49m\u001b[43mnp\u001b[49m\u001b[43m.\u001b[49m\u001b[43marray\u001b[49m\u001b[43m(\u001b[49m\u001b[43m[\u001b[49m\u001b[32;43m4\u001b[39;49m\u001b[43m,\u001b[49m\u001b[32;43m5\u001b[39;49m\u001b[43m]\u001b[49m\u001b[43m)\u001b[49m\n",
      "\u001b[31mValueError\u001b[39m: operands could not be broadcast together with shapes (3,) (2,) "
     ]
    }
   ],
   "source": [
    "A + np.array([4,5])"
   ]
  },
  {
   "cell_type": "markdown",
   "id": "63adc39b",
   "metadata": {},
   "source": [
    "Of course this makes sense, because you cannot add vectors of different sizes."
   ]
  },
  {
   "cell_type": "code",
   "execution_count": 71,
   "id": "e6e9dd3a",
   "metadata": {},
   "outputs": [
    {
     "data": {
      "text/plain": [
       "array([ 5, 10, 15])"
      ]
     },
     "execution_count": 71,
     "metadata": {},
     "output_type": "execute_result"
    }
   ],
   "source": [
    "A * 5"
   ]
  },
  {
   "cell_type": "markdown",
   "id": "b63a6ab3",
   "metadata": {},
   "source": [
    "As expected does the mathematical operations"
   ]
  },
  {
   "cell_type": "code",
   "execution_count": 72,
   "id": "8a5650a0",
   "metadata": {},
   "outputs": [
    {
     "data": {
      "text/plain": [
       "[1, 2, 3, 4, 1, 2, 3, 4, 1, 2, 3, 4, 1, 2, 3, 4, 1, 2, 3, 4]"
      ]
     },
     "execution_count": 72,
     "metadata": {},
     "output_type": "execute_result"
    }
   ],
   "source": [
    "L * 5"
   ]
  },
  {
   "cell_type": "markdown",
   "id": "008b6b8b",
   "metadata": {},
   "source": [
    "List L is repeated 5 times. So in lists the multiply operation does repetition, while for arrays it does multiplication."
   ]
  },
  {
   "cell_type": "code",
   "execution_count": 73,
   "id": "84ef39f2",
   "metadata": {},
   "outputs": [
    {
     "data": {
      "text/plain": [
       "[1, 2, 3, 4, 1, 2, 3, 4]"
      ]
     },
     "execution_count": 73,
     "metadata": {},
     "output_type": "execute_result"
    }
   ],
   "source": [
    "L + L"
   ]
  },
  {
   "cell_type": "markdown",
   "id": "96ce4376",
   "metadata": {},
   "source": [
    "In Python Lists though, how do we add aanything to each element in the list?\n",
    "\n",
    "2 ways:\n",
    "- For loop (by creating new list)\n",
    "- List comprehension"
   ]
  },
  {
   "cell_type": "code",
   "execution_count": 74,
   "id": "d5f9e00b",
   "metadata": {},
   "outputs": [],
   "source": [
    "L2 = []\n",
    "for e in L:\n",
    "  L2.append(e + 1)"
   ]
  },
  {
   "cell_type": "code",
   "execution_count": 75,
   "id": "b546a947",
   "metadata": {},
   "outputs": [
    {
     "data": {
      "text/plain": [
       "[2, 3, 4, 5]"
      ]
     },
     "execution_count": 75,
     "metadata": {},
     "output_type": "execute_result"
    }
   ],
   "source": [
    "L2 = [e + 1 for e in L]\n",
    "L2"
   ]
  },
  {
   "cell_type": "markdown",
   "id": "32cd4de8",
   "metadata": {},
   "source": [
    "One nice thing about this is that it can be very flexible. \n",
    "\n",
    "e.g. how to square everything in L?"
   ]
  },
  {
   "cell_type": "code",
   "execution_count": 76,
   "id": "f56e1e93",
   "metadata": {},
   "outputs": [
    {
     "ename": "TypeError",
     "evalue": "unsupported operand type(s) for ** or pow(): 'list' and 'int'",
     "output_type": "error",
     "traceback": [
      "\u001b[31m---------------------------------------------------------------------------\u001b[39m",
      "\u001b[31mTypeError\u001b[39m                                 Traceback (most recent call last)",
      "\u001b[36mCell\u001b[39m\u001b[36m \u001b[39m\u001b[32mIn[76]\u001b[39m\u001b[32m, line 1\u001b[39m\n\u001b[32m----> \u001b[39m\u001b[32m1\u001b[39m \u001b[43mL\u001b[49m\u001b[43m*\u001b[49m\u001b[43m*\u001b[49m\u001b[32;43m2\u001b[39;49m\n",
      "\u001b[31mTypeError\u001b[39m: unsupported operand type(s) for ** or pow(): 'list' and 'int'"
     ]
    }
   ],
   "source": [
    "L**2"
   ]
  },
  {
   "cell_type": "code",
   "execution_count": 77,
   "id": "fe139a5e",
   "metadata": {},
   "outputs": [
    {
     "data": {
      "text/plain": [
       "[1, 4, 9, 16]"
      ]
     },
     "execution_count": 77,
     "metadata": {},
     "output_type": "execute_result"
    }
   ],
   "source": [
    "[e**2 for e in L]"
   ]
  },
  {
   "cell_type": "markdown",
   "id": "6c2b8421",
   "metadata": {},
   "source": [
    "In numpy this is way easier."
   ]
  },
  {
   "cell_type": "code",
   "execution_count": 78,
   "id": "1d3a74be",
   "metadata": {},
   "outputs": [
    {
     "data": {
      "text/plain": [
       "array([1, 4, 9])"
      ]
     },
     "execution_count": 78,
     "metadata": {},
     "output_type": "execute_result"
    }
   ],
   "source": [
    "A**2"
   ]
  },
  {
   "cell_type": "markdown",
   "id": "f74f7cd5",
   "metadata": {},
   "source": [
    "In numpy if we apply a function to a numpy array, it applies the function element-wise (most of the time)."
   ]
  },
  {
   "cell_type": "code",
   "execution_count": 79,
   "id": "1a85e8e9",
   "metadata": {},
   "outputs": [
    {
     "data": {
      "text/plain": [
       "array([1, 4, 9])"
      ]
     },
     "execution_count": 79,
     "metadata": {},
     "output_type": "execute_result"
    }
   ],
   "source": [
    "np.power(A, 2)"
   ]
  },
  {
   "cell_type": "code",
   "execution_count": 80,
   "id": "4f3a523e",
   "metadata": {},
   "outputs": [
    {
     "data": {
      "text/plain": [
       "array([1.        , 1.41421356, 1.73205081])"
      ]
     },
     "execution_count": 80,
     "metadata": {},
     "output_type": "execute_result"
    }
   ],
   "source": [
    "np.sqrt(A)"
   ]
  },
  {
   "cell_type": "code",
   "execution_count": 81,
   "id": "3ebcf7d0",
   "metadata": {},
   "outputs": [
    {
     "data": {
      "text/plain": [
       "array([0.        , 0.69314718, 1.09861229])"
      ]
     },
     "execution_count": 81,
     "metadata": {},
     "output_type": "execute_result"
    }
   ],
   "source": [
    "np.log(A)"
   ]
  },
  {
   "cell_type": "code",
   "execution_count": 82,
   "id": "6cd961ca",
   "metadata": {},
   "outputs": [
    {
     "data": {
      "text/plain": [
       "array([ 2.71828183,  7.3890561 , 20.08553692])"
      ]
     },
     "execution_count": 82,
     "metadata": {},
     "output_type": "execute_result"
    }
   ],
   "source": [
    "np.exp(A)"
   ]
  },
  {
   "cell_type": "markdown",
   "id": "90e65319",
   "metadata": {},
   "source": [
    "## Dot Product\n",
    "\n",
    "$\\mathbf{a} \\cdot \\mathbf{b} = a^T b = \\sum_{i=1}^{n} a_i b_i$"
   ]
  },
  {
   "cell_type": "code",
   "execution_count": 83,
   "id": "5620d335",
   "metadata": {},
   "outputs": [],
   "source": [
    "a = np.array([1,2])\n",
    "b = np.array([3,4])"
   ]
  },
  {
   "cell_type": "code",
   "execution_count": 84,
   "id": "49e6b58a",
   "metadata": {},
   "outputs": [
    {
     "data": {
      "text/plain": [
       "np.int64(11)"
      ]
     },
     "execution_count": 84,
     "metadata": {},
     "output_type": "execute_result"
    }
   ],
   "source": [
    "dot = 0\n",
    "\n",
    "for e, f in zip(a, b):\n",
    "  dot += e * f\n",
    "\n",
    "dot"
   ]
  },
  {
   "cell_type": "code",
   "execution_count": 85,
   "id": "c4b4c485",
   "metadata": {},
   "outputs": [
    {
     "data": {
      "text/plain": [
       "array([3, 8])"
      ]
     },
     "execution_count": 85,
     "metadata": {},
     "output_type": "execute_result"
    }
   ],
   "source": [
    "a * b"
   ]
  },
  {
   "cell_type": "code",
   "execution_count": 86,
   "id": "03dee55f",
   "metadata": {},
   "outputs": [
    {
     "data": {
      "text/plain": [
       "np.int64(11)"
      ]
     },
     "execution_count": 86,
     "metadata": {},
     "output_type": "execute_result"
    }
   ],
   "source": [
    "np.sum(a * b) # dot product"
   ]
  },
  {
   "cell_type": "code",
   "execution_count": 87,
   "id": "231ad866",
   "metadata": {},
   "outputs": [
    {
     "data": {
      "text/plain": [
       "np.int64(11)"
      ]
     },
     "execution_count": 87,
     "metadata": {},
     "output_type": "execute_result"
    }
   ],
   "source": [
    "(a*b).sum()"
   ]
  },
  {
   "cell_type": "code",
   "execution_count": 88,
   "id": "49cfd5ca",
   "metadata": {},
   "outputs": [
    {
     "data": {
      "text/plain": [
       "np.int64(11)"
      ]
     },
     "execution_count": 88,
     "metadata": {},
     "output_type": "execute_result"
    }
   ],
   "source": [
    "np.dot(a, b)"
   ]
  },
  {
   "cell_type": "code",
   "execution_count": 89,
   "id": "2ec31cdc",
   "metadata": {},
   "outputs": [
    {
     "data": {
      "text/plain": [
       "np.int64(11)"
      ]
     },
     "execution_count": 89,
     "metadata": {},
     "output_type": "execute_result"
    }
   ],
   "source": [
    "a.dot(b)"
   ]
  },
  {
   "cell_type": "code",
   "execution_count": 90,
   "id": "9cfd503a",
   "metadata": {},
   "outputs": [
    {
     "data": {
      "text/plain": [
       "np.int64(11)"
      ]
     },
     "execution_count": 90,
     "metadata": {},
     "output_type": "execute_result"
    }
   ],
   "source": [
    "a@b"
   ]
  },
  {
   "cell_type": "code",
   "execution_count": 91,
   "id": "b224bca6",
   "metadata": {},
   "outputs": [
    {
     "name": "stdout",
     "output_type": "stream",
     "text": [
      "magnitude_a 2.23606797749979\n",
      "magnitude_b 5.0\n"
     ]
    },
    {
     "data": {
      "text/plain": [
       "np.float64(0.9838699100999074)"
      ]
     },
     "execution_count": 91,
     "metadata": {},
     "output_type": "execute_result"
    }
   ],
   "source": [
    "maga = np.sqrt((a*a).sum())\n",
    "magb = np.sqrt((b*b).sum())\n",
    "print(f'magnitude_a {magnitude_a}')\n",
    "print(f'magnitude_b {magnitude_b}')\n",
    "\n",
    "cos_theta = np.dot(a,b) / (magnitude_a * magnitude_b)\n",
    "cos_theta"
   ]
  },
  {
   "cell_type": "code",
   "execution_count": 92,
   "id": "d7cc16ab",
   "metadata": {},
   "outputs": [
    {
     "data": {
      "text/plain": [
       "np.float64(0.17985349979247847)"
      ]
     },
     "execution_count": 92,
     "metadata": {},
     "output_type": "execute_result"
    }
   ],
   "source": [
    "# To get the angle we do arccos since we got the cosine of theh angle\n",
    "theta = np.arccos(cos_theta)\n",
    "theta"
   ]
  },
  {
   "cell_type": "markdown",
   "id": "2ad35306",
   "metadata": {},
   "source": [
    "##  Matrices"
   ]
  },
  {
   "cell_type": "code",
   "execution_count": 93,
   "id": "c3ed08fd",
   "metadata": {},
   "outputs": [
    {
     "data": {
      "text/plain": [
       "[[1, 2], [3, 4]]"
      ]
     },
     "execution_count": 93,
     "metadata": {},
     "output_type": "execute_result"
    }
   ],
   "source": [
    "L = [[1,2], [3,4]]\n",
    "L"
   ]
  },
  {
   "cell_type": "code",
   "execution_count": 94,
   "id": "b75fc319",
   "metadata": {},
   "outputs": [
    {
     "data": {
      "text/plain": [
       "[1, 2]"
      ]
     },
     "execution_count": 94,
     "metadata": {},
     "output_type": "execute_result"
    }
   ],
   "source": [
    "L[0]"
   ]
  },
  {
   "cell_type": "code",
   "execution_count": 95,
   "id": "9f815d6c",
   "metadata": {},
   "outputs": [
    {
     "data": {
      "text/plain": [
       "2"
      ]
     },
     "execution_count": 95,
     "metadata": {},
     "output_type": "execute_result"
    }
   ],
   "source": [
    "L[0][1]"
   ]
  },
  {
   "cell_type": "code",
   "execution_count": 96,
   "id": "99099bb0",
   "metadata": {},
   "outputs": [
    {
     "data": {
      "text/plain": [
       "array([[1, 2],\n",
       "       [3, 4]])"
      ]
     },
     "execution_count": 96,
     "metadata": {},
     "output_type": "execute_result"
    }
   ],
   "source": [
    "A = np.array([[1,2], [3,4]])\n",
    "A"
   ]
  },
  {
   "cell_type": "markdown",
   "id": "696ef72f",
   "metadata": {},
   "source": [
    "Bellow we select the first column of the first row."
   ]
  },
  {
   "cell_type": "code",
   "execution_count": 98,
   "id": "550370f7",
   "metadata": {},
   "outputs": [
    {
     "data": {
      "text/plain": [
       "(np.int64(2), np.int64(2))"
      ]
     },
     "execution_count": 98,
     "metadata": {},
     "output_type": "execute_result"
    }
   ],
   "source": [
    "A[0][1], A[0,1]"
   ]
  },
  {
   "cell_type": "markdown",
   "id": "7cad8f5b",
   "metadata": {},
   "source": [
    "But, what if i want to return the column at index 0? Numpy has a smart way of doing this.\n",
    "\n",
    "We can just select the column using the following syntax:\n",
    "\n",
    "```python\n",
    "column_0 = matrix[:, 0]\n",
    "```\n",
    "\n",
    "What that means is we are selecting all rows (:) and the first column (0) of the matrix."
   ]
  },
  {
   "cell_type": "code",
   "execution_count": null,
   "id": "d61bf696",
   "metadata": {},
   "outputs": [],
   "source": [
    "A[:, 0]"
   ]
  },
  {
   "cell_type": "markdown",
   "id": "a82a21cd",
   "metadata": {},
   "source": [
    "With numpy we can get the Transpose of a matrix using simple methods"
   ]
  },
  {
   "cell_type": "code",
   "execution_count": 99,
   "id": "a4045eee",
   "metadata": {},
   "outputs": [
    {
     "data": {
      "text/plain": [
       "array([[1, 3],\n",
       "       [2, 4]])"
      ]
     },
     "execution_count": 99,
     "metadata": {},
     "output_type": "execute_result"
    }
   ],
   "source": [
    "A.T"
   ]
  },
  {
   "cell_type": "code",
   "execution_count": 100,
   "id": "5f82edad",
   "metadata": {},
   "outputs": [
    {
     "data": {
      "text/plain": [
       "array([[ 2.71828183,  7.3890561 ],\n",
       "       [20.08553692, 54.59815003]])"
      ]
     },
     "execution_count": 100,
     "metadata": {},
     "output_type": "execute_result"
    }
   ],
   "source": [
    "np.exp(A)"
   ]
  },
  {
   "cell_type": "code",
   "execution_count": 102,
   "id": "9ac3285f",
   "metadata": {},
   "outputs": [
    {
     "data": {
      "text/plain": [
       "(array([[ 2.71828183,  7.3890561 ],\n",
       "        [20.08553692, 54.59815003]]),\n",
       " numpy.ndarray)"
      ]
     },
     "execution_count": 102,
     "metadata": {},
     "output_type": "execute_result"
    }
   ],
   "source": [
    "try_with_list = np.exp(L)\n",
    "try_with_list, type(try_with_list)"
   ]
  },
  {
   "cell_type": "markdown",
   "id": "7f35a81b",
   "metadata": {},
   "source": [
    "### Matrix Multiplication"
   ]
  },
  {
   "cell_type": "code",
   "execution_count": 103,
   "id": "93e9e776",
   "metadata": {},
   "outputs": [
    {
     "data": {
      "text/plain": [
       "array([[1, 2, 3],\n",
       "       [4, 5, 6]])"
      ]
     },
     "execution_count": 103,
     "metadata": {},
     "output_type": "execute_result"
    }
   ],
   "source": [
    "B = np.array([[1,2,3], [4,5,6]])\n",
    "B"
   ]
  },
  {
   "cell_type": "markdown",
   "id": "06379ac2",
   "metadata": {},
   "source": [
    "Matrix multiplication is a fundamental operation in linear algebra, and it can be performed in numpy using the `@` operator or the `np.dot()` function.\n",
    "\n",
    "Here's an example of matrix multiplication using the `@` operator:\n",
    "\n",
    "```python\n",
    "result = matrix_a @ matrix_b\n",
    "```\n",
    "\n",
    "And here's the same operation using `np.dot()`:\n",
    "\n",
    "```python\n",
    "result = np.dot(matrix_a, matrix_b)\n",
    "```\n",
    "\n",
    "Both of these methods will give you the same result.\n",
    "\n",
    "Also the inner dimensions of the matrices must match for multiplication to be possible. This means that if `matrix_a` is of shape `(m, n)` then `matrix_b` must be of shape `(n, p)` for some `p`. The resulting matrix will then have the shape `(m, p)`."
   ]
  },
  {
   "cell_type": "code",
   "execution_count": 104,
   "id": "4f98c8f4",
   "metadata": {},
   "outputs": [
    {
     "data": {
      "text/plain": [
       "array([[ 9, 12, 15],\n",
       "       [19, 26, 33]])"
      ]
     },
     "execution_count": 104,
     "metadata": {},
     "output_type": "execute_result"
    }
   ],
   "source": [
    "A.dot(B)"
   ]
  },
  {
   "cell_type": "markdown",
   "id": "3c5a4e8b",
   "metadata": {},
   "source": [
    "Let's se what happens if we break that rule"
   ]
  },
  {
   "cell_type": "code",
   "execution_count": 105,
   "id": "a26cf52d",
   "metadata": {},
   "outputs": [
    {
     "ename": "ValueError",
     "evalue": "shapes (2,3) and (2,2) not aligned: 3 (dim 1) != 2 (dim 0)",
     "output_type": "error",
     "traceback": [
      "\u001b[31m---------------------------------------------------------------------------\u001b[39m",
      "\u001b[31mValueError\u001b[39m                                Traceback (most recent call last)",
      "\u001b[36mCell\u001b[39m\u001b[36m \u001b[39m\u001b[32mIn[105]\u001b[39m\u001b[32m, line 1\u001b[39m\n\u001b[32m----> \u001b[39m\u001b[32m1\u001b[39m \u001b[43mB\u001b[49m\u001b[43m.\u001b[49m\u001b[43mdot\u001b[49m\u001b[43m(\u001b[49m\u001b[43mA\u001b[49m\u001b[43m)\u001b[49m\n",
      "\u001b[31mValueError\u001b[39m: shapes (2,3) and (2,2) not aligned: 3 (dim 1) != 2 (dim 0)"
     ]
    }
   ],
   "source": [
    "B.dot(A)"
   ]
  },
  {
   "cell_type": "code",
   "execution_count": 106,
   "id": "fed42260",
   "metadata": {},
   "outputs": [
    {
     "ename": "ValueError",
     "evalue": "shapes (2,2) and (3,2) not aligned: 2 (dim 1) != 3 (dim 0)",
     "output_type": "error",
     "traceback": [
      "\u001b[31m---------------------------------------------------------------------------\u001b[39m",
      "\u001b[31mValueError\u001b[39m                                Traceback (most recent call last)",
      "\u001b[36mCell\u001b[39m\u001b[36m \u001b[39m\u001b[32mIn[106]\u001b[39m\u001b[32m, line 1\u001b[39m\n\u001b[32m----> \u001b[39m\u001b[32m1\u001b[39m \u001b[43mA\u001b[49m\u001b[43m.\u001b[49m\u001b[43mdot\u001b[49m\u001b[43m(\u001b[49m\u001b[43mB\u001b[49m\u001b[43m.\u001b[49m\u001b[43mT\u001b[49m\u001b[43m)\u001b[49m\n",
      "\u001b[31mValueError\u001b[39m: shapes (2,2) and (3,2) not aligned: 2 (dim 1) != 3 (dim 0)"
     ]
    }
   ],
   "source": [
    "A.dot(B.T)"
   ]
  },
  {
   "cell_type": "code",
   "execution_count": 107,
   "id": "a4127176",
   "metadata": {},
   "outputs": [
    {
     "data": {
      "text/plain": [
       "np.float64(-2.0000000000000004)"
      ]
     },
     "execution_count": 107,
     "metadata": {},
     "output_type": "execute_result"
    }
   ],
   "source": [
    "A = np.array([[1,2], [3,4]])\n",
    "np.linalg.det(A)"
   ]
  },
  {
   "cell_type": "code",
   "execution_count": 109,
   "id": "54f4c336",
   "metadata": {},
   "outputs": [
    {
     "data": {
      "text/plain": [
       "array([[-2. ,  1. ],\n",
       "       [ 1.5, -0.5]])"
      ]
     },
     "execution_count": 109,
     "metadata": {},
     "output_type": "execute_result"
    }
   ],
   "source": [
    "np.linalg.inv(A)"
   ]
  },
  {
   "cell_type": "code",
   "execution_count": 113,
   "id": "4c587cec",
   "metadata": {},
   "outputs": [
    {
     "data": {
      "text/plain": [
       "array([[1.00000000e+00, 0.00000000e+00],\n",
       "       [1.11022302e-16, 1.00000000e+00]])"
      ]
     },
     "execution_count": 113,
     "metadata": {},
     "output_type": "execute_result"
    }
   ],
   "source": [
    "I = np.linalg.inv(A) @ A\n",
    "I"
   ]
  },
  {
   "cell_type": "markdown",
   "id": "9e4cd82e",
   "metadata": {},
   "source": [
    "Why we have these numbers there? Because in computers we cannot be exact, and the algorithms we use to calculate such values often involve approximations and floating-point arithmetic, which can introduce small errors."
   ]
  },
  {
   "cell_type": "code",
   "execution_count": 115,
   "id": "f538b8b9",
   "metadata": {},
   "outputs": [
    {
     "data": {
      "text/plain": [
       "np.int64(5)"
      ]
     },
     "execution_count": 115,
     "metadata": {},
     "output_type": "execute_result"
    }
   ],
   "source": [
    "np.trace(A) # Calculates the main diagonal"
   ]
  },
  {
   "cell_type": "code",
   "execution_count": 117,
   "id": "4512ec22",
   "metadata": {},
   "outputs": [
    {
     "data": {
      "text/plain": [
       "array([1, 4])"
      ]
     },
     "execution_count": 117,
     "metadata": {},
     "output_type": "execute_result"
    }
   ],
   "source": [
    "np.diag(A)"
   ]
  },
  {
   "cell_type": "code",
   "execution_count": 118,
   "id": "d1075519",
   "metadata": {},
   "outputs": [
    {
     "data": {
      "text/plain": [
       "array([[1, 0],\n",
       "       [0, 4]])"
      ]
     },
     "execution_count": 118,
     "metadata": {},
     "output_type": "execute_result"
    }
   ],
   "source": [
    "np.diag([1,4])"
   ]
  },
  {
   "cell_type": "markdown",
   "id": "8d68bd99",
   "metadata": {},
   "source": [
    "So keep in mind that this function is overloaded."
   ]
  },
  {
   "cell_type": "code",
   "execution_count": 119,
   "id": "af5fdd17",
   "metadata": {},
   "outputs": [
    {
     "data": {
      "text/plain": [
       "EigResult(eigenvalues=array([-0.37228132,  5.37228132]), eigenvectors=array([[-0.82456484, -0.41597356],\n",
       "       [ 0.56576746, -0.90937671]]))"
      ]
     },
     "execution_count": 119,
     "metadata": {},
     "output_type": "execute_result"
    }
   ],
   "source": [
    "np.linalg.eig(A)"
   ]
  },
  {
   "cell_type": "code",
   "execution_count": 126,
   "id": "0db33ccd",
   "metadata": {},
   "outputs": [
    {
     "name": "stdout",
     "output_type": "stream",
     "text": [
      "[-0.37228132  5.37228132]\n",
      "--\n",
      "[[-0.82456484 -0.41597356]\n",
      " [ 0.56576746 -0.90937671]]\n"
     ]
    }
   ],
   "source": [
    "Lam, V = np.linalg.eig(A)\n",
    "print(Lam)\n",
    "print('--')\n",
    "print(V)"
   ]
  },
  {
   "cell_type": "code",
   "execution_count": 124,
   "id": "d2e42fb4",
   "metadata": {},
   "outputs": [
    {
     "data": {
      "text/plain": [
       "(array([[-0.82456484, -0.41597356],\n",
       "        [ 0.56576746, -0.90937671]]),\n",
       " array([-0.82456484,  0.56576746]))"
      ]
     },
     "execution_count": 124,
     "metadata": {},
     "output_type": "execute_result"
    }
   ],
   "source": [
    "V, V[:, 0]"
   ]
  },
  {
   "cell_type": "code",
   "execution_count": null,
   "id": "c07e25e3",
   "metadata": {},
   "outputs": [],
   "source": [
    "V[:, 0] * Lam[0]"
   ]
  },
  {
   "cell_type": "markdown",
   "id": "e48f6bc7",
   "metadata": {},
   "source": [
    "## Solving Linear Systems"
   ]
  },
  {
   "cell_type": "code",
   "execution_count": 131,
   "id": "b4520e59",
   "metadata": {},
   "outputs": [
    {
     "data": {
      "text/plain": [
       "(array([[1. , 1. ],\n",
       "        [1.5, 4. ]]),\n",
       " array([2200, 5050]))"
      ]
     },
     "execution_count": 131,
     "metadata": {},
     "output_type": "execute_result"
    }
   ],
   "source": [
    "A = np.array([[1,1], [1.5, 4]])\n",
    "b = np.array([2200, 5050])\n",
    "A, b"
   ]
  },
  {
   "cell_type": "code",
   "execution_count": 130,
   "id": "c48cc031",
   "metadata": {},
   "outputs": [
    {
     "data": {
      "text/plain": [
       "array([1500.,  700.])"
      ]
     },
     "execution_count": 130,
     "metadata": {},
     "output_type": "execute_result"
    }
   ],
   "source": [
    "np.linalg.solve(A, b)"
   ]
  },
  {
   "cell_type": "markdown",
   "id": "321ace93",
   "metadata": {},
   "source": [
    "We can solve the same system using the exact mathematical way (by using the inverse) markdown:\n",
    "\n",
    "$$\n",
    "Ax = b  \\Rightarrow  x = A^{-1}b\n",
    "$$"
   ]
  },
  {
   "cell_type": "code",
   "execution_count": null,
   "id": "e5426099",
   "metadata": {},
   "outputs": [],
   "source": []
  }
 ],
 "metadata": {
  "kernelspec": {
   "display_name": "learn-pytorch",
   "language": "python",
   "name": "python3"
  },
  "language_info": {
   "codemirror_mode": {
    "name": "ipython",
    "version": 3
   },
   "file_extension": ".py",
   "mimetype": "text/x-python",
   "name": "python",
   "nbconvert_exporter": "python",
   "pygments_lexer": "ipython3",
   "version": "3.12.6"
  }
 },
 "nbformat": 4,
 "nbformat_minor": 5
}
