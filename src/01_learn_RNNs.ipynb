{
 "cells": [
  {
   "cell_type": "markdown",
   "id": "3782eef1",
   "metadata": {},
   "source": [
    "# Simple RNN Tutorial\n",
    "\n",
    "In this notebook we will learn how to implement a simple Recurrent Neural Network (RNN) using python. RNNs are particularly useful for sequence prediction problems.\n",
    "\n",
    "Goal: Implement a character level RNN that can predict the next character in a sequence."
   ]
  },
  {
   "cell_type": "code",
   "execution_count": 7,
   "id": "8d1813bb",
   "metadata": {},
   "outputs": [],
   "source": [
    "import numpy as np"
   ]
  },
  {
   "cell_type": "markdown",
   "id": "e212b86d",
   "metadata": {},
   "source": [
    "# 1. Create vocabulary\n",
    "\n",
    "We'll start with a small sample of text. We need to identify all the unique characters in this text to create our vocabulary.\n",
    "\n",
    "Remember in our case the model we will create is a character level RNN, meaning it will predict the next character based on the previous characters."
   ]
  },
  {
   "cell_type": "code",
   "execution_count": 8,
   "id": "f50ff481",
   "metadata": {},
   "outputs": [
    {
     "name": "stdout",
     "output_type": "stream",
     "text": [
      "Vocabulary: [' ', 'p', 'O', 's', 'm', 'i', 'c', 'A', 'z', 'n', 'a', 'e', 'g']\n",
      "Vocabulary size: 13\n",
      "Character to integer mapping: {' ': 0, 'p': 1, 'O': 2, 's': 3, 'm': 4, 'i': 5, 'c': 6, 'A': 7, 'z': 8, 'n': 9, 'a': 10, 'e': 11, 'g': 12}\n",
      "Integer to character mapping: {0: ' ', 1: 'p', 2: 'O', 3: 's', 4: 'm', 5: 'i', 6: 'c', 7: 'A', 8: 'z', 9: 'n', 10: 'a', 11: 'e', 12: 'g'}\n"
     ]
    }
   ],
   "source": [
    "import numpy as np\n",
    "\n",
    "# Sample text data\n",
    "data = \"One piece is Amazing\"\n",
    "\n",
    "# Create vocabulary\n",
    "chars = list(set(data))\n",
    "vocab_size = len(chars)\n",
    "print(f\"Vocabulary: {chars}\")\n",
    "print(f\"Vocabulary size: {vocab_size}\")\n",
    "\n",
    "# Create character-to-integer and integer-to-character mappings\n",
    "char_to_int = {ch: i for i, ch in enumerate(chars)}\n",
    "int_to_char = {i: ch for i, ch in enumerate(chars)}\n",
    "\n",
    "print(f\"Character to integer mapping: {char_to_int}\")\n",
    "print(f\"Integer to character mapping: {int_to_char}\")"
   ]
  },
  {
   "cell_type": "markdown",
   "id": "846b1274",
   "metadata": {},
   "source": [
    "Let's now create a one hot representation for our word"
   ]
  },
  {
   "cell_type": "code",
   "execution_count": null,
   "id": "7a558296",
   "metadata": {},
   "outputs": [],
   "source": [
    "def oh_encode(char, vocab_size, char_to_idx):\n",
    "  oh_vector = np.zeros(vocab_size)\n",
    "  print(f'Char to idx: {char_to_idx}')\n",
    "  oh_vector[char_to_idx[char]] = 1\n",
    "  return oh_vector"
   ]
  },
  {
   "cell_type": "markdown",
   "id": "b45b3ac9",
   "metadata": {},
   "source": [
    "Now it seems that we set up the ground to start. \n",
    "\n",
    "We have: \n",
    "1. Vocabulary\n",
    "2. Word to index mappings (and vice versa)\n",
    "3. One hot encoder\n",
    "\n",
    "\n",
    "Next steps:\n",
    "1. Create a simple RNN Model using PyTorch\n",
    "2. Train it\n",
    "3. Test it\n",
    "4. Make inference"
   ]
  },
  {
   "cell_type": "code",
   "execution_count": null,
   "id": "3098fe30",
   "metadata": {},
   "outputs": [],
   "source": []
  }
 ],
 "metadata": {
  "kernelspec": {
   "display_name": "learn-pytorch",
   "language": "python",
   "name": "python3"
  },
  "language_info": {
   "codemirror_mode": {
    "name": "ipython",
    "version": 3
   },
   "file_extension": ".py",
   "mimetype": "text/x-python",
   "name": "python",
   "nbconvert_exporter": "python",
   "pygments_lexer": "ipython3",
   "version": "3.12.6"
  }
 },
 "nbformat": 4,
 "nbformat_minor": 5
}
