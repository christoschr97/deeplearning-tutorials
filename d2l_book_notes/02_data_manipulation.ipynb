{
 "cells": [
  {
   "cell_type": "markdown",
   "id": "24d20ec6",
   "metadata": {},
   "source": [
    "# Data Manipulation with Tensors\n",
    "\n",
    "Tensor classes in deep learning frameworks resemble NumPy’s ndarray but offer automatic differentiation and GPU acceleration for faster computation."
   ]
  },
  {
   "cell_type": "code",
   "execution_count": 2,
   "id": "c4336873",
   "metadata": {},
   "outputs": [],
   "source": [
    "import torch"
   ]
  },
  {
   "cell_type": "markdown",
   "id": "a663c78b",
   "metadata": {},
   "source": [
    "A Tensor represents a multi-dimensional array of numerical values:\n",
    "- 1D = vector\n",
    "- 2D = matrix\n",
    "- 3D = tensor\n",
    "- 4D = tensor\n",
    "- ...\n",
    "- nD = tensor"
   ]
  },
  {
   "cell_type": "markdown",
   "id": "e2129fff",
   "metadata": {},
   "source": [
    "PyTorch offers functions for creating tensors, like `torch.arange(n)`, which generates evenly spaced values."
   ]
  },
  {
   "cell_type": "code",
   "execution_count": 7,
   "id": "9f698e0a",
   "metadata": {},
   "outputs": [
    {
     "name": "stdout",
     "output_type": "stream",
     "text": [
      "tensor y => tensor([0., 1., 2., 3., 4., 5., 6., 7., 8., 9.])\n",
      "tensor x => tensor([ 0.,  2.,  4.,  6.,  8., 10.])\n"
     ]
    }
   ],
   "source": [
    "y = torch.arange(10, dtype=torch.float32)\n",
    "x = torch.arange(0, 12, 2, dtype=torch.float32)\n",
    "print(f'tensor y => {y}')\n",
    "print(f'tensor x => {x}')"
   ]
  },
  {
   "cell_type": "markdown",
   "id": "80c0cacd",
   "metadata": {},
   "source": [
    "We can inspect the number of elements in a tensor using the `numel()` method. Our `y` tensor has 10 elements and `x` tensor has 6 elements."
   ]
  },
  {
   "cell_type": "code",
   "execution_count": 9,
   "id": "1ff4d335",
   "metadata": {},
   "outputs": [
    {
     "data": {
      "text/plain": [
       "10"
      ]
     },
     "execution_count": 9,
     "metadata": {},
     "output_type": "execute_result"
    }
   ],
   "source": [
    "y.numel()"
   ]
  },
  {
   "cell_type": "markdown",
   "id": "1342bce0",
   "metadata": {},
   "source": [
    "The shape of the tensor is the length along each axis."
   ]
  },
  {
   "cell_type": "markdown",
   "id": "6097bd7c",
   "metadata": {},
   "source": [
    "What is an axis? The axis corresponds to a specific dimension of the tensor. For example, in a 2D tensor (matrix), axis 0 refers to the rows and axis 1 refers to the columns.\n",
    "\n",
    "In a 2D array we select the column (the array) by selecting an index along axis 1. Additionally we select a column by selecting which element we want from that column (from the row, we select an element from specific column e.g. (0, 1) selects the element in the first row and second column)."
   ]
  },
  {
   "cell_type": "code",
   "execution_count": 22,
   "id": "1b02b032",
   "metadata": {},
   "outputs": [
    {
     "data": {
      "text/plain": [
       "torch.Size([12])"
      ]
     },
     "execution_count": 22,
     "metadata": {},
     "output_type": "execute_result"
    }
   ],
   "source": [
    "x = torch.arange(12)\n",
    "x.shape"
   ]
  },
  {
   "cell_type": "markdown",
   "id": "5244c43a",
   "metadata": {},
   "source": [
    "In pytorch we can alter the shape of the tensor using the `reshape` method."
   ]
  },
  {
   "cell_type": "code",
   "execution_count": 23,
   "id": "d956fe6b",
   "metadata": {},
   "outputs": [
    {
     "data": {
      "text/plain": [
       "(tensor([[ 0,  1,  2,  3],\n",
       "         [ 4,  5,  6,  7],\n",
       "         [ 8,  9, 10, 11]]),\n",
       " torch.Size([3, 4]))"
      ]
     },
     "execution_count": 23,
     "metadata": {},
     "output_type": "execute_result"
    }
   ],
   "source": [
    "X = x.reshape(3,4)\n",
    "X, X.shape"
   ]
  },
  {
   "cell_type": "markdown",
   "id": "62b6d448",
   "metadata": {},
   "source": [
    "we can also infer one of the dimensions by setting it to -1. This tells PyTorch to automatically calculate the appropriate size for that dimension based on the total number of elements and the other specified dimensions."
   ]
  },
  {
   "cell_type": "code",
   "execution_count": 25,
   "id": "b511aeb8",
   "metadata": {},
   "outputs": [
    {
     "data": {
      "text/plain": [
       "tensor([[ 0,  1,  2,  3],\n",
       "        [ 4,  5,  6,  7],\n",
       "        [ 8,  9, 10, 11]])"
      ]
     },
     "execution_count": 25,
     "metadata": {},
     "output_type": "execute_result"
    }
   ],
   "source": [
    "x.reshape(-1, 4)"
   ]
  },
  {
   "cell_type": "code",
   "execution_count": null,
   "id": "e72339c4",
   "metadata": {},
   "outputs": [
    {
     "data": {
      "text/plain": [
       "tensor([[ 0,  1,  2],\n",
       "        [ 3,  4,  5],\n",
       "        [ 6,  7,  8],\n",
       "        [ 9, 10, 11]])"
      ]
     },
     "execution_count": 26,
     "metadata": {},
     "output_type": "execute_result"
    }
   ],
   "source": [
    "x.reshape(4, -1)"
   ]
  },
  {
   "cell_type": "markdown",
   "id": "76260ba1",
   "metadata": {},
   "source": [
    "We can also initialize tensors using torch.zeros() and torch.ones() functions.\n"
   ]
  },
  {
   "cell_type": "code",
   "execution_count": 27,
   "id": "22799f59",
   "metadata": {},
   "outputs": [
    {
     "data": {
      "text/plain": [
       "tensor([[0., 0., 0., 0.],\n",
       "        [0., 0., 0., 0.],\n",
       "        [0., 0., 0., 0.]])"
      ]
     },
     "execution_count": 27,
     "metadata": {},
     "output_type": "execute_result"
    }
   ],
   "source": [
    "torch.zeros(3,4)"
   ]
  },
  {
   "cell_type": "code",
   "execution_count": 28,
   "id": "0e3deffd",
   "metadata": {},
   "outputs": [
    {
     "data": {
      "text/plain": [
       "tensor([[1., 1., 1., 1.],\n",
       "        [1., 1., 1., 1.],\n",
       "        [1., 1., 1., 1.]])"
      ]
     },
     "execution_count": 28,
     "metadata": {},
     "output_type": "execute_result"
    }
   ],
   "source": [
    "torch.ones(3,4)"
   ]
  },
  {
   "cell_type": "code",
   "execution_count": null,
   "id": "faaf9bd4",
   "metadata": {},
   "outputs": [],
   "source": []
  }
 ],
 "metadata": {
  "kernelspec": {
   "display_name": "learn-pytorch",
   "language": "python",
   "name": "python3"
  },
  "language_info": {
   "codemirror_mode": {
    "name": "ipython",
    "version": 3
   },
   "file_extension": ".py",
   "mimetype": "text/x-python",
   "name": "python",
   "nbconvert_exporter": "python",
   "pygments_lexer": "ipython3",
   "version": "3.12.6"
  }
 },
 "nbformat": 4,
 "nbformat_minor": 5
}
